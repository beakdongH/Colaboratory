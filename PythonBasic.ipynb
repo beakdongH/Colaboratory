{
  "nbformat": 4,
  "nbformat_minor": 0,
  "metadata": {
    "colab": {
      "provenance": [],
      "toc_visible": true,
      "authorship_tag": "ABX9TyMnliGG5f4HPM3MMH+zhrQB",
      "include_colab_link": true
    },
    "kernelspec": {
      "display_name": "Python 3",
      "name": "python3"
    }
  },
  "cells": [
    {
      "cell_type": "markdown",
      "metadata": {
        "id": "view-in-github",
        "colab_type": "text"
      },
      "source": [
        "<a href=\"https://colab.research.google.com/github/beakdongH/Colaboratory/blob/main/PythonBasic.ipynb\" target=\"_parent\"><img src=\"https://colab.research.google.com/assets/colab-badge.svg\" alt=\"Open In Colab\"/></a>"
      ]
    },
    {
      "cell_type": "code",
      "metadata": {
        "colab": {
          "base_uri": "https://localhost:8080/"
        },
        "id": "7Fsodv0e_X1r",
        "outputId": "f7807879-6bd9-4c8f-a92f-123e1ef343cb"
      },
      "source": [
        "ame = int(input(\"아메리카노 판매 개수\"))\n",
        "cafe = int(input(\"카페라떼 판매 개수\"))\n",
        "capu = int(input(\"카푸치노 판매개수\"))\n",
        "\n",
        "chong = ame*2000+capu*4000+cafe*3000\n",
        "\n",
        "print(\"총매출은\",chong,\"원입니다\")"
      ],
      "execution_count": null,
      "outputs": [
        {
          "output_type": "stream",
          "text": [
            "아메리카노 판매 개수3\n",
            "카페라떼 판매 개수2\n",
            "카푸치노 판매개수1\n",
            "총매출은 16000 원입니다\n"
          ],
          "name": "stdout"
        }
      ]
    },
    {
      "cell_type": "markdown",
      "metadata": {
        "id": "iNi4BT1NL2wo"
      },
      "source": [
        "# **조건문**"
      ]
    },
    {
      "cell_type": "code",
      "metadata": {
        "id": "PgG4TtRlHNS_"
      },
      "source": [
        "year = int(input(\"연도를 입력하십시오\"))\n",
        "\n",
        "if (year%4 == 0) and (year%100 != 0) or (year%400 == 0):\n",
        "  print(year,\"년은 윤년입니다\")\n",
        "else :\n",
        "  print(year,\"년은 윤년이 아닙니다\")"
      ],
      "execution_count": null,
      "outputs": []
    },
    {
      "cell_type": "code",
      "metadata": {
        "id": "8xbFrKEBGa-4"
      },
      "source": [
        "age = int(input(\"나이를 입력하십시오\"))\n",
        "\n",
        "if age >= 16 :\n",
        "  print(\"영화관람이 가능합니다\")\n",
        "  print(\"영화 가격은 10000원입니다\")\n",
        "\n",
        "else :\n",
        "  print(\"이 영화 관람이 불가능합니다\")\n",
        "  print(\"다른 영화를 보시겠습니까?\")"
      ],
      "execution_count": null,
      "outputs": []
    },
    {
      "cell_type": "code",
      "metadata": {
        "id": "_FtMeo-VF74q"
      },
      "source": [
        "su = int(input(\"정수를 입력하십시오\"))\n",
        "\n",
        "if su > 0:\n",
        "  print(\"양수입니다\")\n",
        "if su < 0:\n",
        "  print(\"음수입니다\")"
      ],
      "execution_count": null,
      "outputs": []
    },
    {
      "cell_type": "code",
      "metadata": {
        "id": "Z371-1XDE85V"
      },
      "source": [
        "su = int(input(\"정수를 입력하십시오\"))\n",
        "\n",
        "if su%2 == 1 :\n",
        "  print(\"홀수입니다\")\n",
        "if su % 2 == 0 :\n",
        "  print(\"짝수입니다\")"
      ],
      "execution_count": null,
      "outputs": []
    },
    {
      "cell_type": "code",
      "metadata": {
        "id": "tgI7efK8Bh9N"
      },
      "source": [
        "a = int(input(\"성적을 입력하십시오\"))\n",
        "\n",
        "if a >= 90:\n",
        "  print(\"학점: A\")\n",
        "elif a >= 80:\n",
        "  print(\"학점:B\")\n",
        "elif a >= 70:\n",
        "  print(\"학점:C\")\n",
        "else :\n",
        "  print(\"학점:F\")\n",
        "print(\"수고하셨습니다!\")"
      ],
      "execution_count": null,
      "outputs": []
    },
    {
      "cell_type": "code",
      "metadata": {
        "id": "CQn4Njj8LywG"
      },
      "source": [
        "kg = float(input(\"몸무게를 kg단위로 입력하세요\"))\n",
        "tall = float(input(\"키를 미터(m) 단위로 입력하십시오\"))\n",
        "bmi = kg/(tall*tall)\n",
        "\n",
        "print(bmi)\n",
        "if bmi > 27.77 :\n",
        "  print(\"비만입니다\")\n",
        "elif  bmi > 24.74 :\n",
        "  print(\"과체중입니다\")\n",
        "elif  bmi > 16.83 :\n",
        "  print(\"정상입니다\")\n",
        "else :\n",
        "  print(\"저체중입니다\")"
      ],
      "execution_count": null,
      "outputs": []
    },
    {
      "cell_type": "code",
      "metadata": {
        "id": "VSToXY7OMqpJ"
      },
      "source": [
        "import random\n",
        "print(random.randint(1,20))\n",
        "print(random.choice([1,2,5,7]))\n",
        "print(random.randrange(2))\n",
        "print(random.sample(range(1,50),5))"
      ],
      "execution_count": null,
      "outputs": []
    },
    {
      "cell_type": "code",
      "metadata": {
        "id": "sGQcFYrxPu6L"
      },
      "source": [
        "import random\n",
        "a = random.choice([\"left\", \"right\", \"center\"])\n",
        "sube =input(\"어디를 수비하시겠습니까?[left, right, center]\")\n",
        "\n",
        "if sube == a :\n",
        "  print(\"수비에 성공하였습니다\")\n",
        "\n",
        "else :\n",
        "  print(\"수비에 실패하였습니다\")\n",
        "\n"
      ],
      "execution_count": null,
      "outputs": []
    },
    {
      "cell_type": "code",
      "metadata": {
        "id": "9oSDmnl0Ij89"
      },
      "source": [
        "import random\n",
        "\n",
        "a = random.randrange(2)\n",
        "if a == 0:\n",
        "  print(\"뒷면입니다!\")\n",
        "if a == 1:\n",
        "  print(\"앞면입니다!\")\n",
        "print(\"게임이 종료되었습니다\")"
      ],
      "execution_count": null,
      "outputs": []
    },
    {
      "cell_type": "code",
      "metadata": {
        "id": "3_NHDvtbNN_i"
      },
      "source": [
        "import random as r\n",
        "a = r.randint(1,5)\n",
        "b = r.randint(1,5)\n",
        "\n",
        "print(a,b)\n",
        "c = int(input(\"두수의 합계를 입력하세요\"))\n",
        "if c == a+b :\n",
        "  print(\"정답입니다\")\n",
        "else :\n",
        "  print(\"오답입니다\")"
      ],
      "execution_count": null,
      "outputs": []
    },
    {
      "cell_type": "markdown",
      "metadata": {
        "id": "m40saMXSNJ6Q"
      },
      "source": [
        "# **반복문**"
      ]
    },
    {
      "cell_type": "code",
      "metadata": {
        "id": "_knK9296J_df"
      },
      "source": [
        "import random as r\n",
        "i = 0\n",
        "while i<5:\n",
        "  print(r.randint(1,45),end=\" \")\n",
        "  i+=1\n",
        "\n",
        "\n",
        "\n"
      ],
      "execution_count": null,
      "outputs": []
    },
    {
      "cell_type": "code",
      "metadata": {
        "id": "RP6UjUv9SbcU"
      },
      "source": [
        "import random as r\n",
        "ran = r.randint(1,100)\n",
        "count = 0\n",
        "\n",
        "while True:\n",
        "  dap=int(input(\"1~100 사이의 숫자를 추측해 보세요\"))\n",
        "  count+=1\n",
        "  if dap > ran :\n",
        "    print(\"입력한 수보다 작습니다\")\n",
        "  elif dap < ran :\n",
        "    print(\"입력한 수보다 큽니다\")\n",
        "  else :\n",
        "    print(\"축하합니다! 정답입니다\")\n",
        "    print(\"시도횟수 :\",count,\"정답:\",ran)\n",
        "    break\n",
        "\n",
        "\n"
      ],
      "execution_count": null,
      "outputs": []
    },
    {
      "cell_type": "code",
      "metadata": {
        "id": "9iarEPUKQSCI"
      },
      "source": [
        "dan = int(input(\"단수를 입력하십시오\"))\n",
        "i = 1\n",
        "while i<10:\n",
        "  print(dan,\"x\",i,\"=\",i*dan)\n",
        "  i+=1\n"
      ],
      "execution_count": null,
      "outputs": []
    },
    {
      "cell_type": "code",
      "metadata": {
        "id": "JPzAIPipPFB0"
      },
      "source": [
        "i = 1\n",
        "a = 0\n",
        "while i<11:\n",
        "  a+=i\n",
        "  i+=1\n",
        "print(a)\n"
      ],
      "execution_count": null,
      "outputs": []
    },
    {
      "cell_type": "code",
      "metadata": {
        "id": "jGeo5kn1Pfww"
      },
      "source": [
        "i=1\n",
        "a=0\n",
        "while i<100:\n",
        "  if i%3==0:\n",
        "    print(i,end=\" \")\n",
        "  i+=1\n"
      ],
      "execution_count": null,
      "outputs": []
    },
    {
      "cell_type": "code",
      "metadata": {
        "id": "oemIIJ-wI3vQ"
      },
      "source": [
        "for i in range(10):\n",
        "  print(i)"
      ],
      "execution_count": null,
      "outputs": []
    },
    {
      "cell_type": "code",
      "metadata": {
        "id": "_CuQayBcJVBQ"
      },
      "source": [
        "a=1\n",
        "for i in range(20):\n",
        "  print(i)"
      ],
      "execution_count": null,
      "outputs": []
    },
    {
      "cell_type": "code",
      "metadata": {
        "id": "kTA-fMSvK_kd"
      },
      "source": [
        "a = int(input(\"반복횟수를 입력하세요\"))\n",
        "sum=0\n",
        "for i in range(a):\n",
        "  x = int(input(\"정수를 입력하세요\"))\n",
        "  sum+=x\n",
        "s=sum/a\n",
        "print(\"합계\",sum,\"평균\",s)"
      ],
      "execution_count": null,
      "outputs": []
    },
    {
      "cell_type": "code",
      "metadata": {
        "id": "R9gVTBbCLFGc"
      },
      "source": [
        "import random as r\n",
        "sum=0\n",
        "for i in range(10):\n",
        "  x = r.randint(1,100)\n",
        "  sum+=x\n",
        "f=sum/10\n",
        "print(\"합계\",sum,\"평균\",f)\n",
        "\n"
      ],
      "execution_count": null,
      "outputs": []
    },
    {
      "cell_type": "code",
      "metadata": {
        "id": "ai4pyA3KWO1Q"
      },
      "source": [
        "k =0\n",
        "for i in [1, 2, 5, 7, 9]:\n",
        "  k+=i\n",
        "y=k/5\n",
        "print(\"합계\",k,\"통계\",y)"
      ],
      "execution_count": null,
      "outputs": []
    },
    {
      "cell_type": "code",
      "metadata": {
        "id": "3xRJyWchX9Wl"
      },
      "source": [
        "import random\n",
        "coun=0\n",
        "k=0\n",
        "for i in range(5):\n",
        "  x=random.randint(1,50)\n",
        "  y=random.randint(1,50)\n",
        "  print(x,\"+\",y,\"= ?\",end=\" \")\n",
        "  n=int(input())\n",
        "  if n == x+y:\n",
        "    print(\"정답입니다!\")\n",
        "    coun+1\n",
        "  else :\n",
        "    print(\"틀렸습니다\")\n",
        "    k+1\n",
        "print(\"한번만에 맞힌 개수\",coun,\"개 입니다\")"
      ],
      "execution_count": null,
      "outputs": []
    },
    {
      "cell_type": "code",
      "metadata": {
        "id": "NZOKVz1fGks9"
      },
      "source": [
        "for i in range(6):\n",
        "  for x in range(1,i+1):\n",
        "    print(\"*\",end=\" \")\n",
        "  print(\" \")"
      ],
      "execution_count": null,
      "outputs": []
    },
    {
      "cell_type": "code",
      "metadata": {
        "id": "Y5y5FYl9MVR_"
      },
      "source": [
        "  for i in range(5,0,-1):\n",
        "  for x in range(1,i+1):\n",
        "    print(\"*\",end=\" \")\n",
        "  print(\" \")"
      ],
      "execution_count": null,
      "outputs": []
    },
    {
      "cell_type": "markdown",
      "metadata": {
        "id": "XRjrHddMe_Bf"
      },
      "source": [
        "\n",
        "# **파이썬**"
      ]
    },
    {
      "cell_type": "code",
      "source": [
        "import turtle as t\n",
        "\n",
        "win = t.Screen()\n",
        "ub = t.Turtle()\n",
        "\n",
        "win.setup(600,600)\n",
        "angle = 119\n",
        "\n",
        "win.bgcolor(\"black\")\n",
        "ub.color(\"yellow\")\n",
        "ub.speed(100)\n",
        "a=[\"red\",\"yellow\",\"blue\"]\n",
        "x=0\n",
        "i=0\n",
        "while x < 1000:\n",
        "   if x%4==1:ub.color(\"blue\")\n",
        "   elif x%4==2:ub.color(\"red\")\n",
        "   elif x%4==3:ub.color(\"green\")\n",
        "   else: ub.color(\"blue\")\n",
        "   # ub.color(a[i])\n",
        "   # i=i+1\n",
        "   # if(i==3):\n",
        "   #     i=0\n",
        "   # ub.left(angle)\n",
        "   # x=x+2\n",
        "win.exitonclick()\n"
      ],
      "metadata": {
        "id": "NqWWNJJ2wV1s"
      },
      "execution_count": null,
      "outputs": []
    },
    {
      "cell_type": "code",
      "metadata": {
        "id": "Hb26UPYJbZ6U"
      },
      "source": [
        "print(\"파이썬 용\")\n",
        "\n",
        "\n",
        "\n",
        "#import turtle as t\n",
        "#import random\n",
        "#t.bgcolor(\"black\")\n",
        "\n",
        "#lnt =10\n",
        "#gak = 89\n",
        "#t.speed(0)\n",
        "#c_l=[\"red\",'blue',\"green\",\"yellow\"]\n",
        "#while lnt<500:\n",
        "   # for i in range(4):\n",
        " #       t.color(c_l[random.randint(0,3)])\n",
        "  #      t.fd(lnt)\n",
        "   #     t.rt(gak)\n",
        "  #      lnt+=5"
      ],
      "execution_count": null,
      "outputs": []
    },
    {
      "cell_type": "code",
      "metadata": {
        "id": "a_lbCqI4fHhF"
      },
      "source": [
        "#n각형\n",
        "import turtle as t\n",
        "def da(a):\n",
        "    for i in range(a):\n",
        "        t.fd(30)\n",
        "        t.rt(360/a)\n",
        "def main():\n",
        "    n = int(input(\"어떤 정다각형을 그리시겠습니까?(숫자입력)\"))\n",
        "    da(n)\n",
        "\n",
        "main()"
      ],
      "execution_count": null,
      "outputs": []
    },
    {
      "cell_type": "code",
      "metadata": {
        "id": "2nvBhOrHc_Bj"
      },
      "source": [
        "#bmi계산기\n",
        "\n",
        "def bmi(bkg, btall):\n",
        "    return bkg//(btall*btall)\n",
        "while True:\n",
        "    kg = int(input(\"당신의 몸무게는?\"))\n",
        "    tall = float(input(\"당신의 키를 m단위로 입력하십시오\"))\n",
        "\n",
        "    h = bmi(kg, tall)\n",
        "    print(h)\n",
        "\n",
        "    if h<20:\n",
        "        print(\"저체중입니다\")\n",
        "    elif 20<h<25:\n",
        "        print(\"정상체중입니다\")\n",
        "    elif 25<h<30:\n",
        "        print(\"경도비만입니다\")\n",
        "    else :\n",
        "        print(\"비만입니다\")\n",
        "\n",
        "    dap = int(input(\"계속하시겠습니까?(yes=1, no=2)\"))\n",
        "\n",
        "    if dap == 1:\n",
        "        print(\"알겠습니다\")\n",
        "    elif dap == 2 :\n",
        "        print(\"감사합니다\")\n",
        "        break\n",
        "\n",
        "    else:\n",
        "        print(\"잘못 입력하셨습니다\")"
      ],
      "execution_count": null,
      "outputs": []
    },
    {
      "cell_type": "code",
      "metadata": {
        "id": "g5Y3fbk5dLtn"
      },
      "source": [
        "#n각형 컬러\n",
        "import turtle as t\n",
        "t=t.Turtle()\n",
        "color_list=[\"violet\",\"red\",\"blue\",\"brown\",\"green\",\n",
        "            \"pink\",\"orange\",\"black\",\"gray\"]\n",
        "t.speed(5)\n",
        "def poly(n,length):\n",
        "    for i in range(n):\n",
        "        t.fd(length)\n",
        "        t.lt(360//n)\n",
        "\n",
        "for i in range(18):\n",
        "    t.color(color_list[i%9])\n",
        "    t.lt(20)\n",
        "    poly(6,50)\n"
      ],
      "execution_count": null,
      "outputs": []
    },
    {
      "cell_type": "code",
      "metadata": {
        "id": "2BVv20ZpdQjP"
      },
      "source": [
        "#n각형 다양하게그리기\n",
        "\n",
        "import turtle as t\n",
        "import random\n",
        "t=t.Turtle()\n",
        "color_list=[\"violet\",\"red\",\"blue\",\"brown\",\"green\",\"pink\",\"orange\",\n",
        "            \"black\",\"gray\"]\n",
        "\n",
        "def dodo(length, n):\n",
        "    for i in range(n):\n",
        "        t.fd(length)\n",
        "        t.lt(360//n)\n",
        "\n",
        "for i in range(20):\n",
        "    t.color(color_list[i%9])\n",
        "    x=random.randint(-400,400)\n",
        "    y=random.randint(-300,300)\n",
        "\n",
        "\n",
        "    polygon=random.randint(3,6)\n",
        "    size=random.randint(10,40)\n",
        "\n",
        "    t.up()\n",
        "    t.goto(x,y)\n",
        "    t.down()\n",
        "    t.begin_fill()\n",
        "    dodo(size,polygon)\n",
        "    t.end_fill()"
      ],
      "execution_count": null,
      "outputs": []
    },
    {
      "cell_type": "code",
      "metadata": {
        "id": "5ZEdfJWydXTl"
      },
      "source": [
        "#함수 n각형\n",
        "\n",
        "import turtle as t\n",
        "a = int(input(\"한 변의 길이를 입력하십시오\"))\n",
        "b= int(input(\"도형의 이름을 숫자로 입력하십시오\"))\n",
        "\n",
        "t=t.Turtle()\n",
        "def n_polygon(n, length):\n",
        "    for i in range(n):\n",
        "        t.fd(length)\n",
        "        t.left(360//n)\n",
        "\n",
        "for i in range(b):\n",
        "    t.left(b)\n",
        "    n_polygon(b,a)\n"
      ],
      "execution_count": null,
      "outputs": []
    },
    {
      "cell_type": "code",
      "metadata": {
        "id": "HEVgBiA3kIqo"
      },
      "source": [
        "#파이두\n",
        "def pi(a,b):\n",
        "    return a*a*b\n",
        "def pii(a,b):\n",
        "    return (a+a)*b\n",
        "\n",
        "k=int(input(\"반지름의 길이를 입력하세요\"))\n",
        "\n",
        "g=3.14159265358979\n",
        "u=pi(k,g)\n",
        "s=pii(k,g)\n",
        "print(\"반지름이\",k, \"인 원의 면적:\",u)\n",
        "print(\"반지름이\",k,\"인 원의 둘레:\",s)"
      ],
      "execution_count": null,
      "outputs": []
    },
    {
      "cell_type": "code",
      "metadata": {
        "id": "3YbOgADJa5XQ"
      },
      "source": [
        "#미로\n",
        "import turtle as t\n",
        "\n",
        "def maze(x,y):\n",
        "    for i in range(2):\n",
        "        t.penup()\n",
        "        if i == 1:\n",
        "            t.goto(x+100,y+100)\n",
        "        else :\n",
        "            t.goto(x,y)\n",
        "        t.pendown()\n",
        "        t.fd(300)\n",
        "        t.rt(90)\n",
        "        t.fd(300)\n",
        "        t.lt(90)\n",
        "        t.fd(300)\n",
        "def lit():\n",
        "    t.lt(10)\n",
        "    t.fd(10)\n",
        "def rit():\n",
        "    t.rt(10)\n",
        "    t.fd(10)\n",
        "s=t.Screen()\n",
        "t.speed(5)\n",
        "\n",
        "maze(-300,200)\n",
        "s.onkey(lit,\"Left\")\n",
        "s.onkey(rit,\"Right\")\n",
        "\n",
        "t.penup()\n",
        "t.goto(-300,250)\n",
        "t.pendown()\n",
        "s.listen()\n",
        "s.mainloop()\n"
      ],
      "execution_count": null,
      "outputs": []
    },
    {
      "cell_type": "code",
      "metadata": {
        "id": "iflti1Epa-Wx"
      },
      "source": [
        "#한붓그리기\n",
        "import turtle as t\n",
        "\n",
        "def drr(x,y):\n",
        "    t.goto(x,y)\n",
        "\n",
        "t.pensize(5)\n",
        "\n",
        "s=t.Screen()\n",
        "s.onscreenclick(drr)"
      ],
      "execution_count": null,
      "outputs": []
    },
    {
      "cell_type": "code",
      "metadata": {
        "id": "hz_p6dW3bmGm"
      },
      "source": [
        "#클릭\n",
        "import turtle as t\n",
        "\n",
        "n=int(input(\"몇각형을 그리시겠습니까?(숫자로입력)\"))\n",
        "\n",
        "def one(length):\n",
        "    for i in range(n):\n",
        "        t.fd(length)\n",
        "        t.rt(360/n)\n",
        "def draw(x,y):\n",
        "    t.penup()\n",
        "    t.goto(x,y)\n",
        "    t.pendown()\n",
        "    t.begin_fill()\n",
        "    t.color(\"green\")\n",
        "    one(50)\n",
        "    t.end_fill()\n",
        "\n",
        "\n",
        "s= t.Screen()\n",
        "s.onscreenclick(draw)\n"
      ],
      "execution_count": null,
      "outputs": []
    },
    {
      "cell_type": "markdown",
      "metadata": {
        "id": "Ni0B1P6JbB8X"
      },
      "source": [
        "# **함수**"
      ]
    },
    {
      "cell_type": "code",
      "source": [
        "# 키보드로 거북이를 조종해서 그림 그리기\n",
        "import turtle as t\n",
        "\n",
        "def turn_right():                    # 오른쪽으로 이동하는 함수\n",
        "    t.setheading(0)                  # t.seth(0)로 입력해도 됩니다.\n",
        "    t.forward(10)                    # t.fd(10)로 입력해도 됩니다.\n",
        "\n",
        "def turn_up():                       # 위로 이동하는 함수\n",
        "    t.setheading(90)\n",
        "    t.forward(10)\n",
        "\n",
        "def turn_left():                    # 왼쪽으로 이동하는 함수\n",
        "    t.setheading(180)\n",
        "    t.forward(10)\n",
        "\n",
        "def turn_down():                    # 아래로 이동하는 함수\n",
        "    t.setheading(270)\n",
        "    t.forward(10)\n",
        "\n",
        "def blank():                        # 화면을 지우는 함수\n",
        "    t.clear()\n",
        "\n",
        "t.shape(\"turtle\")                   # 거북이 모양을 사용합니다.\n",
        "t.speed(0)                          # 거북이 속도를 가장 빠르게 지정합니다.\n",
        "t.onkeypress(turn_right, \"Right\")   # [→]를 누르면 turn_right 함수를 실행합니다.\n",
        "t.onkeypress(turn_up, \"Up\")\n",
        "t.onkeypress(turn_left, \"Left\")\n",
        "t.onkeypress(turn_down, \"Down\")\n",
        "t.onkeypress(blank, \"Escape\")       # [Esc]를 누르면 blank 함수를 실행합니다.\n",
        "t.listen()                          # 거북이 그래픽 창이 키보드 입력을 받습니다.\n"
      ],
      "metadata": {
        "id": "f7B3GLws5wBl"
      },
      "execution_count": null,
      "outputs": []
    },
    {
      "cell_type": "code",
      "metadata": {
        "id": "o32OLo1ubF8Y"
      },
      "source": [
        "def add(a,b):\n",
        "    return  a+b\n",
        "def my(a,b):\n",
        "    return  a-b\n",
        "def gob(a,b):\n",
        "    return  a*b\n",
        "def na(a,b):\n",
        "    if b==0:\n",
        "        print(\"0으로는 나눌수 없습니다\")\n",
        "    else:                                       #10\n",
        "        return a/b\n",
        "\n",
        "def main():\n",
        "    sa=\" \"\n",
        "    a1=0\n",
        "    b1=0\n",
        "    result =0\n",
        "    a1=int(input(\"첫번째 숫자를 입력하세요\"))\n",
        "    b1=int(input(\"두번째 숫자를 입력하세요\"))\n",
        "    sa=input(\"연산자를 입력하십시오\")    #20\n",
        "\n",
        "    if sa ==\"+\":\n",
        "        result =add(a1,b1)\n",
        "    elif sa ==\"-\":\n",
        "        result =my(a1,b1)\n",
        "    elif sa ==\"x\":\n",
        "        result =gob(a1,b1)\n",
        "    elif sa ==\"/\":\n",
        "        result =na(a1,b1)\n",
        "    else :                                          #30\n",
        "        print(\"사칙연산이 아닙니다(+,-,x,/ 중 하나)\")\n",
        "    print(result)\n",
        "main()\n"
      ],
      "execution_count": null,
      "outputs": []
    },
    {
      "cell_type": "code",
      "metadata": {
        "id": "zwAvCw45bNr_"
      },
      "source": [
        "def gugu(dan):\n",
        "    for i in range(1,10):\n",
        "        a = print(dan, \"*\",i,\"=\",dan*i)\n",
        "\n",
        "def main():\n",
        "    for i in range(1,10):\n",
        "        print(\"======================\")\n",
        "        gugu(i)\n",
        "\n",
        "main()"
      ],
      "execution_count": null,
      "outputs": []
    },
    {
      "cell_type": "code",
      "metadata": {
        "id": "mn7Mj9AJMiJ3"
      },
      "source": [
        "def fact(n):\n",
        "  if n == 1:\n",
        "    return 1\n",
        "  else:\n",
        "    return n*fact(n-1)\n",
        "n= int(input(\"정수를 입력하십시오\"))\n",
        "f = fact(n)\n",
        "print(n,\"!은\",f,\"이다\")"
      ],
      "execution_count": null,
      "outputs": []
    },
    {
      "cell_type": "markdown",
      "metadata": {
        "id": "ALR7xGPjbAib"
      },
      "source": [
        "# **집합**"
      ]
    },
    {
      "cell_type": "code",
      "metadata": {
        "id": "AXELxxodbEkp"
      },
      "source": [
        "s=set()\n",
        "s={1,2,5}\n",
        "\n",
        "s.add(11)\n",
        "s.add(6)\n",
        "s.remove(11)\n",
        "s.discard(6)\n",
        "print(s)"
      ],
      "execution_count": null,
      "outputs": []
    },
    {
      "cell_type": "code",
      "metadata": {
        "id": "zRo4g8EIdAT5"
      },
      "source": [
        "plant={'수성':91700000,'금성':41400000,'화성':78400000,'목성':628700000,'토성':1277400000,'천왕성':2750400000,'해왕성':4347400000}\n",
        "a=input(\"어떤행성에 가시겠습니까?\")\n",
        "b=int(input(\"이동속도는?(km/h)\"))\n",
        "dis=plant[a]\n",
        "\n",
        "time = dis / b\n",
        "\n",
        "year = int(time)/(365*24)\n",
        "month = int(time)%(365*24)/(30*24)\n",
        "day = int(time)%(365*24)%(30*24)/24\n",
        "hour = int(time)%(365*24)%(30*24)%24\n",
        "print('이동시간:',time)\n",
        "print(year,'년',month,'월',day,'일',hour,'시간')"
      ],
      "execution_count": null,
      "outputs": []
    },
    {
      "cell_type": "code",
      "metadata": {
        "id": "qWXHBlebjndp"
      },
      "source": [
        "award =[]\n",
        "award.append({'이름':'팀버스너리','수상년도':2016,'국적':'영국','대표업적':'월드와이트 웹의 하이퍼 텍스트 시스템을 고안하여 개발'})\n",
        "award.append({'이름':'리처드 해밍','수상년도':1968,'국적':'미국','대표업적':'오류 검출 부호 및 오류 정정 부호'})\n",
        "award.append({'이름':'에프허르 데이크스트라','수상년도':1972,'국적':'네덜란드','대표업적':'프로그래밍 언어 연구,데이크스타 알고리즘'})\n",
        "award.append({'이름':'더글러스 엥겔바트','수상년도':1997,'국적':'미국','대표업적':'월드와이트 웹의 하이퍼 텍스트 시스템을 고안하여 개발'})\n",
        "award.append({'이름':'데니스 리치','수상년도':1983,'국적':'미국','대표업적':'유닉스 운영 체제개발, C언어 개발'})\n",
        "\n",
        "for awards in award:\n",
        "  print(awards)\n",
        "\n",
        "print(\"수상자명단\")\n",
        "for awards in award:\n",
        "  print(awards['이름'])\n",
        "\n",
        "print()\n",
        "print(\"수상자명단과 수상년도\")\n",
        "for awards in award:\n",
        "  if awards['수상년도'] <=1990:\n",
        "    print(awards['이름'],awards['수상년도'])\n",
        "\n",
        "print()\n",
        "print(\"수상국가\")\n",
        "nationality=set()\n",
        "for awards in award:\n",
        "  nationality.add(awards['국적'])\n",
        "print(nationality)"
      ],
      "execution_count": null,
      "outputs": []
    },
    {
      "cell_type": "markdown",
      "metadata": {
        "id": "M0S9CHN6Suwb"
      },
      "source": [
        "# **딕셔너리**"
      ]
    },
    {
      "cell_type": "code",
      "metadata": {
        "id": "UQCLQr1EU4sX"
      },
      "source": [
        "items={\"커피\":7, \"펜\": 3, \"종이컵\":10, \"우유\":2, \"콜라\":4, \"라면\":9}\n",
        "print(\"판매 전 재고\", items)\n",
        "\n",
        "sell=input(\"판매할 물건을 입력하십시오:\")\n",
        "\n",
        "if sell in items:\n",
        "  items[sell]-=1\n",
        "else:\n",
        "  print(\"판매 제품이아닙니다\")\n",
        "\n",
        "print(\"판매 후 제고\", items)"
      ],
      "execution_count": null,
      "outputs": []
    },
    {
      "cell_type": "code",
      "metadata": {
        "id": "WeQVhTW0fCFo",
        "colab": {
          "base_uri": "https://localhost:8080/"
        },
        "outputId": "16725abb-3477-4840-ece3-2d3f1f22d7e9"
      },
      "source": [
        "phone_book={'홍길동':'010-1234-5678','이순신':'010-7777-7777','김수이':'010-0984-7648'}\n",
        "phone_book={\"김수이\"}\n",
        "print(phone_book)"
      ],
      "execution_count": null,
      "outputs": [
        {
          "output_type": "stream",
          "name": "stdout",
          "text": [
            "{'김수이'}\n"
          ]
        }
      ]
    },
    {
      "cell_type": "code",
      "metadata": {
        "id": "def9tlnCTAH0",
        "colab": {
          "base_uri": "https://localhost:8080/"
        },
        "outputId": "ec613209-3054-4e3b-a64e-b7120f0ed473"
      },
      "source": [
        "eng ={}\n",
        "eng['one']='하나'\n",
        "eng['two']='둘'\n",
        "eng['three']='셋'\n",
        "word = input(\"단어를 입력하십시오:\")\n",
        "print(eng[word])"
      ],
      "execution_count": null,
      "outputs": [
        {
          "output_type": "stream",
          "name": "stdout",
          "text": [
            "단어를 입력하십시오:one\n",
            "하나\n"
          ]
        }
      ]
    },
    {
      "cell_type": "code",
      "metadata": {
        "id": "AoV6nG1gW73y",
        "colab": {
          "base_uri": "https://localhost:8080/"
        },
        "outputId": "5c826078-a55e-4164-aad1-baee762e6e05"
      },
      "source": [
        "phone_b={'홍길동':'010-1234-5678',\n",
        "         '이순신':'010-7777-7777',\n",
        "         '김수이':'010-0001-1000',\n",
        "         '장영실':'010-0100-1234'}\n",
        "for i in phone_b.keys():\n",
        "  print(i)\n",
        "for i in phone_b.values():\n",
        "  print(i)"
      ],
      "execution_count": null,
      "outputs": [
        {
          "output_type": "stream",
          "text": [
            "홍길동\n",
            "이순신\n",
            "김수이\n",
            "장영실\n",
            "010-1234-5678\n",
            "010-7777-7777\n",
            "010-0001-1000\n",
            "010-0100-1234\n"
          ],
          "name": "stdout"
        }
      ]
    },
    {
      "cell_type": "code",
      "metadata": {
        "id": "fW6a-VglY9bU",
        "colab": {
          "base_uri": "https://localhost:8080/"
        },
        "outputId": "737839e3-8b50-40f1-9233-ef66f60f7062"
      },
      "source": [
        "phone_book={'홍길동':'010-1234-5678',\n",
        "         '이순신':'010-7777-7777',\n",
        "         '김수이':'010-0001-1000',\n",
        "         '장영실':'010-0100-1234'}\n",
        "for k,v in phone_book.items():\n",
        "  print('{}의 전화번호는 {}입니다'.format(k,v))"
      ],
      "execution_count": null,
      "outputs": [
        {
          "output_type": "stream",
          "name": "stdout",
          "text": [
            "홍길동의 전화번호는 010-1234-5678입니다\n",
            "이순신의 전화번호는 010-7777-7777입니다\n",
            "김수이의 전화번호는 010-0001-1000입니다\n",
            "장영실의 전화번호는 010-0100-1234입니다\n"
          ]
        }
      ]
    },
    {
      "cell_type": "code",
      "metadata": {
        "id": "eZ3c2MJ-pi7N",
        "colab": {
          "base_uri": "https://localhost:8080/",
          "height": 786
        },
        "outputId": "56f92c8c-b87c-4614-eb80-7af66ff5849e"
      },
      "source": [
        "menu=0\n",
        "items_it={\"커피\":7, \"펜\": 3, \"종이컵\":10, \"우유\":2, \"콜라\":4, \"라면\":9}\n",
        "while menu!=9:\n",
        "  print(\"현재수량\")\n",
        "  print(items_it)\n",
        "  print(\"-------------------\")\n",
        "  print(\"1.추가할 물건 선택\")\n",
        "  print(\"2.삭제할 물건 선택\")\n",
        "  print(\"3.물건 이름 검색\")\n",
        "  print(\"4.물건 판매\")\n",
        "  print(\"5.물건 수입\")\n",
        "  print(\"9.종료\")\n",
        "  print(\"-------------------\")\n",
        "  menu = int(input(\"메뉴를 선택하십시오\"))\n",
        "  if menu == 1:\n",
        "    nameadd=input(\"추가할 물건을 입력하십시오\")\n",
        "    add=input(\"추가할 음식의 수량을 입력하십시오\")\n",
        "    items_it[nameadd]=add\n",
        "    print(items_it)\n",
        "  elif menu == 2:\n",
        "    nameby=input(\"삭제할 물건을 입력하십시오\")\n",
        "    del items_it[nameby]\n",
        "    print(items_it)\n",
        "  elif menu == 3:\n",
        "    item=input(\"물건의 이름을 입력하십시오\")\n",
        "    print(items_it[item])\n",
        "  elif menu == 4:\n",
        "    panda=input(\"판매할 물건을 입력하십시오\")\n",
        "    if panda in items_it:\n",
        "      items_it[panda]-=1\n",
        "      print(items_it)\n",
        "    else:\n",
        "      print(\"없는 물건입니다\")\n",
        "  elif menu == 5:\n",
        "    plus = input(\"수입할 물건을 입력하십시오\")\n",
        "    if plus in items_it:\n",
        "      items_it[plus]+=1\n",
        "      print(items_it)\n",
        "    else:\n",
        "      print(\"없는 물건입니다\")\n",
        "  elif menu == 9:\n",
        "    print(\"종료합니다\")\n",
        "    break\n",
        "  else:\n",
        "    print(\"발견되지 않은 숫자입니다. 다시 해주십시오\")"
      ],
      "execution_count": null,
      "outputs": [
        {
          "name": "stdout",
          "output_type": "stream",
          "text": [
            "현재수량\n",
            "{'커피': 7, '펜': 3, '종이컵': 10, '우유': 2, '콜라': 4, '라면': 9}\n",
            "-------------------\n",
            "1.추가할 물건 선택\n",
            "2.삭제할 물건 선택\n",
            "3.물건 이름 검색\n",
            "4.물건 판매\n",
            "5.물건 수입\n",
            "9.종료\n",
            "-------------------\n",
            "메뉴를 선택하십시오1\n",
            "추가할 물건을 입력하십시오라면\n"
          ]
        },
        {
          "output_type": "error",
          "ename": "KeyboardInterrupt",
          "evalue": "ignored",
          "traceback": [
            "\u001b[0;31m---------------------------------------------------------------------------\u001b[0m",
            "\u001b[0;31mKeyboardInterrupt\u001b[0m                         Traceback (most recent call last)",
            "\u001b[0;32m/usr/local/lib/python3.7/dist-packages/ipykernel/kernelbase.py\u001b[0m in \u001b[0;36m_input_request\u001b[0;34m(self, prompt, ident, parent, password)\u001b[0m\n\u001b[1;32m    728\u001b[0m             \u001b[0;32mtry\u001b[0m\u001b[0;34m:\u001b[0m\u001b[0;34m\u001b[0m\u001b[0;34m\u001b[0m\u001b[0m\n\u001b[0;32m--> 729\u001b[0;31m                 \u001b[0mident\u001b[0m\u001b[0;34m,\u001b[0m \u001b[0mreply\u001b[0m \u001b[0;34m=\u001b[0m \u001b[0mself\u001b[0m\u001b[0;34m.\u001b[0m\u001b[0msession\u001b[0m\u001b[0;34m.\u001b[0m\u001b[0mrecv\u001b[0m\u001b[0;34m(\u001b[0m\u001b[0mself\u001b[0m\u001b[0;34m.\u001b[0m\u001b[0mstdin_socket\u001b[0m\u001b[0;34m,\u001b[0m \u001b[0;36m0\u001b[0m\u001b[0;34m)\u001b[0m\u001b[0;34m\u001b[0m\u001b[0;34m\u001b[0m\u001b[0m\n\u001b[0m\u001b[1;32m    730\u001b[0m             \u001b[0;32mexcept\u001b[0m \u001b[0mException\u001b[0m\u001b[0;34m:\u001b[0m\u001b[0;34m\u001b[0m\u001b[0;34m\u001b[0m\u001b[0m\n",
            "\u001b[0;32m/usr/local/lib/python3.7/dist-packages/jupyter_client/session.py\u001b[0m in \u001b[0;36mrecv\u001b[0;34m(self, socket, mode, content, copy)\u001b[0m\n\u001b[1;32m    802\u001b[0m         \u001b[0;32mtry\u001b[0m\u001b[0;34m:\u001b[0m\u001b[0;34m\u001b[0m\u001b[0;34m\u001b[0m\u001b[0m\n\u001b[0;32m--> 803\u001b[0;31m             \u001b[0mmsg_list\u001b[0m \u001b[0;34m=\u001b[0m \u001b[0msocket\u001b[0m\u001b[0;34m.\u001b[0m\u001b[0mrecv_multipart\u001b[0m\u001b[0;34m(\u001b[0m\u001b[0mmode\u001b[0m\u001b[0;34m,\u001b[0m \u001b[0mcopy\u001b[0m\u001b[0;34m=\u001b[0m\u001b[0mcopy\u001b[0m\u001b[0;34m)\u001b[0m\u001b[0;34m\u001b[0m\u001b[0;34m\u001b[0m\u001b[0m\n\u001b[0m\u001b[1;32m    804\u001b[0m         \u001b[0;32mexcept\u001b[0m \u001b[0mzmq\u001b[0m\u001b[0;34m.\u001b[0m\u001b[0mZMQError\u001b[0m \u001b[0;32mas\u001b[0m \u001b[0me\u001b[0m\u001b[0;34m:\u001b[0m\u001b[0;34m\u001b[0m\u001b[0;34m\u001b[0m\u001b[0m\n",
            "\u001b[0;32m/usr/local/lib/python3.7/dist-packages/zmq/sugar/socket.py\u001b[0m in \u001b[0;36mrecv_multipart\u001b[0;34m(self, flags, copy, track)\u001b[0m\n\u001b[1;32m    624\u001b[0m         \"\"\"\n\u001b[0;32m--> 625\u001b[0;31m         \u001b[0mparts\u001b[0m \u001b[0;34m=\u001b[0m \u001b[0;34m[\u001b[0m\u001b[0mself\u001b[0m\u001b[0;34m.\u001b[0m\u001b[0mrecv\u001b[0m\u001b[0;34m(\u001b[0m\u001b[0mflags\u001b[0m\u001b[0;34m,\u001b[0m \u001b[0mcopy\u001b[0m\u001b[0;34m=\u001b[0m\u001b[0mcopy\u001b[0m\u001b[0;34m,\u001b[0m \u001b[0mtrack\u001b[0m\u001b[0;34m=\u001b[0m\u001b[0mtrack\u001b[0m\u001b[0;34m)\u001b[0m\u001b[0;34m]\u001b[0m\u001b[0;34m\u001b[0m\u001b[0;34m\u001b[0m\u001b[0m\n\u001b[0m\u001b[1;32m    626\u001b[0m         \u001b[0;31m# have first part already, only loop while more to receive\u001b[0m\u001b[0;34m\u001b[0m\u001b[0;34m\u001b[0m\u001b[0;34m\u001b[0m\u001b[0m\n",
            "\u001b[0;32mzmq/backend/cython/socket.pyx\u001b[0m in \u001b[0;36mzmq.backend.cython.socket.Socket.recv\u001b[0;34m()\u001b[0m\n",
            "\u001b[0;32mzmq/backend/cython/socket.pyx\u001b[0m in \u001b[0;36mzmq.backend.cython.socket.Socket.recv\u001b[0;34m()\u001b[0m\n",
            "\u001b[0;32mzmq/backend/cython/socket.pyx\u001b[0m in \u001b[0;36mzmq.backend.cython.socket._recv_copy\u001b[0;34m()\u001b[0m\n",
            "\u001b[0;32m/usr/local/lib/python3.7/dist-packages/zmq/backend/cython/checkrc.pxd\u001b[0m in \u001b[0;36mzmq.backend.cython.checkrc._check_rc\u001b[0;34m()\u001b[0m\n",
            "\u001b[0;31mKeyboardInterrupt\u001b[0m: ",
            "\nDuring handling of the above exception, another exception occurred:\n",
            "\u001b[0;31mKeyboardInterrupt\u001b[0m                         Traceback (most recent call last)",
            "\u001b[0;32m<ipython-input-2-b1b6a7932887>\u001b[0m in \u001b[0;36m<module>\u001b[0;34m()\u001b[0m\n\u001b[1;32m     15\u001b[0m   \u001b[0;32mif\u001b[0m \u001b[0mmenu\u001b[0m \u001b[0;34m==\u001b[0m \u001b[0;36m1\u001b[0m\u001b[0;34m:\u001b[0m\u001b[0;34m\u001b[0m\u001b[0;34m\u001b[0m\u001b[0m\n\u001b[1;32m     16\u001b[0m     \u001b[0mnameadd\u001b[0m\u001b[0;34m=\u001b[0m\u001b[0minput\u001b[0m\u001b[0;34m(\u001b[0m\u001b[0;34m\"추가할 물건을 입력하십시오\"\u001b[0m\u001b[0;34m)\u001b[0m\u001b[0;34m\u001b[0m\u001b[0;34m\u001b[0m\u001b[0m\n\u001b[0;32m---> 17\u001b[0;31m     \u001b[0madd\u001b[0m\u001b[0;34m=\u001b[0m\u001b[0minput\u001b[0m\u001b[0;34m(\u001b[0m\u001b[0;34m\"추가할 음식의 수량을 입력하십시오\"\u001b[0m\u001b[0;34m)\u001b[0m\u001b[0;34m\u001b[0m\u001b[0;34m\u001b[0m\u001b[0m\n\u001b[0m\u001b[1;32m     18\u001b[0m     \u001b[0mitems_it\u001b[0m\u001b[0;34m[\u001b[0m\u001b[0mnameadd\u001b[0m\u001b[0;34m]\u001b[0m\u001b[0;34m=\u001b[0m\u001b[0madd\u001b[0m\u001b[0;34m\u001b[0m\u001b[0;34m\u001b[0m\u001b[0m\n\u001b[1;32m     19\u001b[0m     \u001b[0mprint\u001b[0m\u001b[0;34m(\u001b[0m\u001b[0mitems_it\u001b[0m\u001b[0;34m)\u001b[0m\u001b[0;34m\u001b[0m\u001b[0;34m\u001b[0m\u001b[0m\n",
            "\u001b[0;32m/usr/local/lib/python3.7/dist-packages/ipykernel/kernelbase.py\u001b[0m in \u001b[0;36mraw_input\u001b[0;34m(self, prompt)\u001b[0m\n\u001b[1;32m    702\u001b[0m             \u001b[0mself\u001b[0m\u001b[0;34m.\u001b[0m\u001b[0m_parent_ident\u001b[0m\u001b[0;34m,\u001b[0m\u001b[0;34m\u001b[0m\u001b[0;34m\u001b[0m\u001b[0m\n\u001b[1;32m    703\u001b[0m             \u001b[0mself\u001b[0m\u001b[0;34m.\u001b[0m\u001b[0m_parent_header\u001b[0m\u001b[0;34m,\u001b[0m\u001b[0;34m\u001b[0m\u001b[0;34m\u001b[0m\u001b[0m\n\u001b[0;32m--> 704\u001b[0;31m             \u001b[0mpassword\u001b[0m\u001b[0;34m=\u001b[0m\u001b[0;32mFalse\u001b[0m\u001b[0;34m,\u001b[0m\u001b[0;34m\u001b[0m\u001b[0;34m\u001b[0m\u001b[0m\n\u001b[0m\u001b[1;32m    705\u001b[0m         )\n\u001b[1;32m    706\u001b[0m \u001b[0;34m\u001b[0m\u001b[0m\n",
            "\u001b[0;32m/usr/local/lib/python3.7/dist-packages/ipykernel/kernelbase.py\u001b[0m in \u001b[0;36m_input_request\u001b[0;34m(self, prompt, ident, parent, password)\u001b[0m\n\u001b[1;32m    732\u001b[0m             \u001b[0;32mexcept\u001b[0m \u001b[0mKeyboardInterrupt\u001b[0m\u001b[0;34m:\u001b[0m\u001b[0;34m\u001b[0m\u001b[0;34m\u001b[0m\u001b[0m\n\u001b[1;32m    733\u001b[0m                 \u001b[0;31m# re-raise KeyboardInterrupt, to truncate traceback\u001b[0m\u001b[0;34m\u001b[0m\u001b[0;34m\u001b[0m\u001b[0;34m\u001b[0m\u001b[0m\n\u001b[0;32m--> 734\u001b[0;31m                 \u001b[0;32mraise\u001b[0m \u001b[0mKeyboardInterrupt\u001b[0m\u001b[0;34m\u001b[0m\u001b[0;34m\u001b[0m\u001b[0m\n\u001b[0m\u001b[1;32m    735\u001b[0m             \u001b[0;32melse\u001b[0m\u001b[0;34m:\u001b[0m\u001b[0;34m\u001b[0m\u001b[0;34m\u001b[0m\u001b[0m\n\u001b[1;32m    736\u001b[0m                 \u001b[0;32mbreak\u001b[0m\u001b[0;34m\u001b[0m\u001b[0;34m\u001b[0m\u001b[0m\n",
            "\u001b[0;31mKeyboardInterrupt\u001b[0m: "
          ]
        }
      ]
    },
    {
      "cell_type": "markdown",
      "metadata": {
        "id": "Iq_i0XNZh6OR"
      },
      "source": [
        "# **리스트**"
      ]
    },
    {
      "cell_type": "code",
      "metadata": {
        "id": "rNhxj9priE7f"
      },
      "source": [
        "menu = 0\n",
        "fri = []\n",
        "while menu !=9:\n",
        "  print(\"-------------------\")\n",
        "  print(\"1.친구 리스트 출력\")\n",
        "  print(\"2.친구추가\")\n",
        "  print(\"3.친구삭제\")\n",
        "  print(\"4.이름변경\")\n",
        "  print(\"9.종료\")\n",
        "  print(\"-------------------\")\n",
        "  menu = int(input(\"메뉴를 선택하십시오\"))\n",
        "  if menu == 1:\n",
        "    print(fri)\n",
        "  elif menu == 2:\n",
        "    name = input(\"이름을 입력하십시오\")\n",
        "    fri.append(name)\n",
        "  elif menu == 3:\n",
        "    del_name = input(\"삭제하고 싶은 이름을 입력하십시오\")\n",
        "    if del_name in fri:\n",
        "      fri.remove(del_name)\n",
        "    else:\n",
        "      print(\"이름이 발견되지 않음\")\n",
        "  elif menu == 4:\n",
        "    old_name = input(\"변경할 이름을 입력하십시오\")\n",
        "    if old_name in fri:\n",
        "      index = fri.index(old_name)\n",
        "      new_name = input(\"새로운 이름을 입력하십시오\")\n",
        "      fri[index] = new_name\n",
        "  if menu == 9:\n",
        "    print(\"종료합니다\")\n",
        "    break"
      ],
      "execution_count": null,
      "outputs": []
    },
    {
      "cell_type": "code",
      "metadata": {
        "colab": {
          "base_uri": "https://localhost:8080/"
        },
        "id": "7wj4JVBU_m6n",
        "outputId": "3c9e18dd-1b1b-4250-b0fc-60094bad6116"
      },
      "source": [
        "size = 0\n",
        "xxl= 0\n",
        "xl=0\n",
        "l=0\n",
        "m=0\n",
        "xs=0\n",
        "s=0\n",
        "\n",
        "shirt_size=[\"XXL\", \"XL\", \"XS\", \"L\", \"L\", \"S\"]\n",
        "for i in range(len(shirt_size)):\n",
        "#for i in shirt_size:\n",
        "  if shirt_size[i] == \"XS\":\n",
        "    xs+=1\n",
        "  elif shirt_size[i] ==\"XL\":\n",
        "    xl+=1\n",
        "  elif shirt_size[i]== \"XXL\":\n",
        "    xxl+=1\n",
        "  elif shirt_size[i]==\"L\":\n",
        "    l+=1\n",
        "  elif shirt_size[i]==\"S\":\n",
        "    s+=1\n",
        "  elif shirt_size[i]==\"M\":\n",
        "    m+=1\n",
        "print(\"|shirt_size                                          |return|\")\n",
        "print(\"|------------------|---------------|-----------------|------|\")\n",
        "print(\"|[XXL XL XS L M S] |[\",xxl, xl, xs, l, m, s,\"]|\")"
      ],
      "execution_count": null,
      "outputs": [
        {
          "output_type": "stream",
          "text": [
            "|shirt_size                                          |return|\n",
            "|------------------|---------------|-----------------|------|\n",
            "|[XXL XL XS L M S] |[ 1 1 1 2 0 1 ]|\n"
          ],
          "name": "stdout"
        }
      ]
    },
    {
      "cell_type": "code",
      "metadata": {
        "colab": {
          "base_uri": "https://localhost:8080/"
        },
        "id": "y8H2rVbOIrhS",
        "outputId": "7c12135e-b133-4e6e-a847-ac91d2c24501"
      },
      "source": [
        "def func_a(month, day):\n",
        "  month_list=[31,28,31,30,31,30,31,31,30,31,30,31]\n",
        "  total=0\n",
        "  for i in range(month-1):\n",
        "    total +=month_list[i]\n",
        "  total+=day\n",
        "  return total\n",
        "\n",
        "def solution(start_month, start_day, end_month, end_day):\n",
        "  start_total= func_a(start_month, start_day)\n",
        "  end_total=func_a(end_month, start_day)\n",
        "  return end_total - start_total\n",
        "\n",
        "start_month=1\n",
        "start_day=2\n",
        "end_month=2\n",
        "end_day=2\n",
        "ret= solution(start_month, start_day, end_month, end_day)\n",
        "\n",
        "print(ret)"
      ],
      "execution_count": null,
      "outputs": [
        {
          "output_type": "stream",
          "text": [
            "31\n"
          ],
          "name": "stdout"
        }
      ]
    },
    {
      "cell_type": "code",
      "metadata": {
        "colab": {
          "base_uri": "https://localhost:8080/"
        },
        "id": "g0k5qyzOLU85",
        "outputId": "fd92f504-c65f-435a-a147-297758637d70"
      },
      "source": [
        "grade=input(\"등급 s v g 중 고르세요\")\n",
        "price=int(input(\"가격은 얼마입니까\"))\n",
        "if grade== \"s\":\n",
        "  price-=price*0.05\n",
        "elif grade ==\"g\":\n",
        "  price-=price*0.1\n",
        "elif grade ==\"v\":\n",
        "  price-=price*0.15\n",
        "print(price)"
      ],
      "execution_count": null,
      "outputs": [
        {
          "output_type": "stream",
          "text": [
            "등급 s v g 중 고르세요s\n",
            "가격은 얼마입니까2500\n",
            "2375.0\n"
          ],
          "name": "stdout"
        }
      ]
    },
    {
      "cell_type": "code",
      "metadata": {
        "colab": {
          "base_uri": "https://localhost:8080/"
        },
        "id": "vP__dBKnBqoe",
        "outputId": "6a0a2a04-51ef-4649-b7c1-258aa77eb957"
      },
      "source": [
        "o=0\n",
        "e=0\n",
        "t=0\n",
        "list=[1,1,2,3,3,2,3,2,3,3,3,2]\n",
        "for q in range(len(list)):\n",
        "  if list[q] == 1:\n",
        "    o+=1\n",
        "  elif list[q] == 2:\n",
        "    e+=1\n",
        "  elif list[q] == 3:\n",
        "    t+=1\n",
        "print(o, e, t)\n",
        "if o<e<t:\n",
        "  print(t/o)\n",
        "elif e<o<t:\n",
        "  print(t/e)\n",
        "elif o<t<e:\n",
        "  print(e/o)\n",
        "elif t<o<e:\n",
        "  print(e/t)\n",
        "elif t<e<o:\n",
        "  print(o/t)\n",
        "elif e<t<o:\n",
        "  print(o/e)"
      ],
      "execution_count": null,
      "outputs": [
        {
          "output_type": "stream",
          "text": [
            "2 4 6\n",
            "3.0\n"
          ],
          "name": "stdout"
        }
      ]
    },
    {
      "cell_type": "code",
      "metadata": {
        "colab": {
          "base_uri": "https://localhost:8080/"
        },
        "id": "bMKXDWk2LSKh",
        "outputId": "2cbedaa9-3a1d-495a-fde7-a98a0747a2ba"
      },
      "source": [
        "number = 40\n",
        "count =0\n",
        "for i in range(number):\n",
        "  for a in str(i):\n",
        "    if '3' in a or '6' in a or '9' in a:\n",
        "      count+=1\n",
        "      print(i,end=' ')\n",
        "print('\\n',count)"
      ],
      "execution_count": null,
      "outputs": [
        {
          "output_type": "stream",
          "text": [
            "3 6 9 13 16 19 23 26 29 30 31 32 33 33 34 35 36 36 37 38 39 39 \n",
            " 22\n"
          ],
          "name": "stdout"
        }
      ]
    },
    {
      "cell_type": "code",
      "metadata": {
        "id": "elmg006Ri2m4"
      },
      "source": [
        "list1 = [4, 5 ,6]\n",
        "list2 = [1, 2, 3]\n",
        "print(list1 > list2)"
      ],
      "execution_count": null,
      "outputs": []
    },
    {
      "cell_type": "code",
      "metadata": {
        "id": "FMaCKQwloCg2"
      },
      "source": [
        "import time\n",
        "size = 50000\n",
        "\n",
        "start_time = time.time()\n",
        "mylist = []\n",
        "for i in range(size):\n",
        "  mylist = mylist + [i*i]\n",
        "print(\"수행시간=\",time.time()-start_time)\n",
        "\n",
        "start_time = time.time()\n",
        "mylist = []\n",
        "for i in range(size):\n",
        "  mylist.append(i * i)\n",
        "print(\"수행시간=\", time.time() - start_time)"
      ],
      "execution_count": null,
      "outputs": []
    },
    {
      "cell_type": "code",
      "metadata": {
        "id": "1SJs4zyBqtJ1",
        "colab": {
          "base_uri": "https://localhost:8080/"
        },
        "outputId": "1d17f288-acaf-49c4-e11c-15990db19021"
      },
      "source": [
        "list = [1, 2, 3, 4, 5, 6, 7, 8]\n",
        "list[0:3] = ['red', 'white', 'blue', 'green']\n",
        "list"
      ],
      "execution_count": null,
      "outputs": [
        {
          "output_type": "execute_result",
          "data": {
            "text/plain": [
              "['red', 'white', 'blue', 'green', 4, 5, 6, 7, 8]"
            ]
          },
          "metadata": {
            "tags": []
          },
          "execution_count": 2
        }
      ]
    },
    {
      "cell_type": "code",
      "metadata": {
        "id": "GjyflR_Uu9Ez"
      },
      "source": [
        "import random\n",
        "test=[]\n",
        "for i in range(10):\n",
        "    test.append(random.randint(1,100))"
      ],
      "execution_count": null,
      "outputs": []
    },
    {
      "cell_type": "code",
      "metadata": {
        "id": "NqX9-1DqvMex"
      },
      "source": [
        "print(test)"
      ],
      "execution_count": null,
      "outputs": []
    },
    {
      "cell_type": "code",
      "metadata": {
        "id": "2QkrdTNTvzHZ"
      },
      "source": [
        "test[::-1]"
      ],
      "execution_count": null,
      "outputs": []
    },
    {
      "cell_type": "code",
      "metadata": {
        "id": "nZA09E5WxWiQ"
      },
      "source": [
        "s= \"good morning\""
      ],
      "execution_count": null,
      "outputs": []
    },
    {
      "cell_type": "code",
      "metadata": {
        "id": "v18TsdTKxalw"
      },
      "source": [
        "s[0:4]"
      ],
      "execution_count": null,
      "outputs": []
    },
    {
      "cell_type": "code",
      "metadata": {
        "id": "HueTlsRlybKa",
        "colab": {
          "base_uri": "https://localhost:8080/"
        },
        "outputId": "9946d6ff-7715-4315-e6e7-4a4118e40897"
      },
      "source": [
        "list=[10, 20, 30, 40, 50, 60, 70, 80, 90]\n",
        "a = input(\"입력할 값의 개수 :\")\n",
        "list[1]"
      ],
      "execution_count": null,
      "outputs": [
        {
          "output_type": "stream",
          "text": [
            "입력할 값의 개수 :3\n"
          ],
          "name": "stdout"
        },
        {
          "output_type": "execute_result",
          "data": {
            "text/plain": [
              "20"
            ]
          },
          "metadata": {
            "tags": []
          },
          "execution_count": 1
        }
      ]
    },
    {
      "cell_type": "code",
      "metadata": {
        "id": "us9_wqYVyHWA"
      },
      "source": [
        "import random\n",
        "test=[]\n",
        "for i in range(10):\n",
        "    test.append(random.randint(1,100))\n",
        "test"
      ],
      "execution_count": null,
      "outputs": []
    },
    {
      "cell_type": "code",
      "metadata": {
        "id": "kLsQLhu9y_dI"
      },
      "source": [
        "import random\n",
        "test=[]\n",
        "for i in range(10):\n",
        "    test.append(random.randint(1,50))\n",
        "\n",
        "#별찍기\n",
        "for i in range(len(test)):\n",
        "  print(test[i],\"*\"*test[i])"
      ],
      "execution_count": null,
      "outputs": []
    },
    {
      "cell_type": "code",
      "metadata": {
        "id": "bXqKPRiL5WxJ",
        "colab": {
          "base_uri": "https://localhost:8080/"
        },
        "outputId": "9bfb25b0-1ca7-4884-ab39-7fa36573e85e"
      },
      "source": [
        "oddnumber=[1,3,5,7.9]\n",
        "cafes=['star','bene','yoger','friends']\n",
        "A=[1,5,'A','CC','b']\n",
        "listInit=[[1,3,5,6,7],cafes,oddnumber,1,3,'Abc']\n",
        "print(oddnumber)\n",
        "print(cafes)\n",
        "print(A)\n",
        "print(listInit)"
      ],
      "execution_count": null,
      "outputs": [
        {
          "output_type": "stream",
          "text": [
            "[1, 3, 5, 7.9]\n",
            "['star', 'bene', 'yoger', 'friends']\n",
            "[1, 5, 'A', 'CC', 'b']\n",
            "[[1, 3, 5, 6, 7], ['star', 'bene', 'yoger', 'friends'], [1, 3, 5, 7.9], 1, 3, 'Abc']\n"
          ],
          "name": "stdout"
        }
      ]
    },
    {
      "cell_type": "code",
      "metadata": {
        "colab": {
          "base_uri": "https://localhost:8080/"
        },
        "id": "jxFYPwBYti9X",
        "outputId": "ff33b3ba-0d7d-49ac-de1f-cb8d5f758405"
      },
      "source": [
        "oddnumber=[1,3,5,7.9]\n",
        "cafes=['star','bene','yoger','friends']\n",
        "A=[1,5,'A','CC','b']\n",
        "listInit=[[1,3,5,6,7],cafes,oddnumber,1,3,'Abc']\n",
        "\n",
        "a=oddnumber[1:5]\n",
        "b=cafes[1:]\n",
        "c=A[:3]\n",
        "d=listInit[0][1:4]\n",
        "\n",
        "print(a)\n",
        "print(b)\n",
        "print(c)\n",
        "print(d)"
      ],
      "execution_count": null,
      "outputs": [
        {
          "output_type": "stream",
          "text": [
            "[3, 5, 7.9]\n",
            "['bene', 'yoger', 'friends']\n",
            "[1, 5, 'A']\n",
            "[3, 5, 6]\n"
          ],
          "name": "stdout"
        }
      ]
    },
    {
      "cell_type": "code",
      "metadata": {
        "colab": {
          "base_uri": "https://localhost:8080/"
        },
        "id": "e1satCa0t-r8",
        "outputId": "c94f3233-a24e-44b8-c5d1-3b352ae1afa0"
      },
      "source": [
        "my_list=['a',1,2,3,'b',['apple','banana'],4]\n",
        "a= my_list[3:4]\n",
        "my_list[2]='hello'\n",
        "b= my_list[:6]\n",
        "c=my_list[2][1]\n",
        "\n",
        "print(a)\n",
        "print(my_list)\n",
        "print(b)\n",
        "print(c)"
      ],
      "execution_count": null,
      "outputs": [
        {
          "output_type": "stream",
          "text": [
            "[3]\n",
            "['a', 1, 'hello', 3, 'b', ['apple', 'banana'], 4]\n",
            "['a', 1, 'hello', 3, 'b', ['apple', 'banana']]\n",
            "e\n"
          ],
          "name": "stdout"
        }
      ]
    },
    {
      "cell_type": "code",
      "metadata": {
        "colab": {
          "base_uri": "https://localhost:8080/"
        },
        "id": "BzxILDUKv0jR",
        "outputId": "d5ff6645-0761-4ef0-951a-0d646a1baeee"
      },
      "source": [
        "even_numbers=[2,4,6,8,10]\n",
        "odd_numbers=[1,3,5,7,9]\n",
        "numbers= even_numbers+odd_numbers\n",
        "numbers[4]=100\n",
        "print(numbers)\n",
        "numbers[2]='hello'\n",
        "print(numbers)\n",
        "numbers[0]=numbers[9]\n",
        "print(numbers)\n",
        "numbers[8]=['a','b','c']"
      ],
      "execution_count": null,
      "outputs": [
        {
          "output_type": "stream",
          "text": [
            "[2, 4, 6, 8, 100, 1, 3, 5, 7, 9]\n",
            "[2, 4, 'hello', 8, 100, 1, 3, 5, 7, 9]\n",
            "[9, 4, 'hello', 8, 100, 1, 3, 5, 7, 9]\n"
          ],
          "name": "stdout"
        }
      ]
    },
    {
      "cell_type": "code",
      "metadata": {
        "colab": {
          "base_uri": "https://localhost:8080/"
        },
        "id": "etrmlAEmxFc6",
        "outputId": "d9dc07c9-350d-416c-98f6-257dbcfb3117"
      },
      "source": [
        "even_numbers=[2,4,6,8,10]\n",
        "odd_numbers=[1,3,5,7,9]\n",
        "numbers= even_numbers+odd_numbers\n",
        "\n",
        "numbers[4:5]=[80]\n",
        "print(numbers)\n",
        "numbers[2:6]=\"hello\"\n",
        "print(numbers)\n",
        "numbers[2:3]=['a','b','c']\n",
        "print(numbers)\n",
        "numbers[:]=[1]\n",
        "print(numbers)"
      ],
      "execution_count": null,
      "outputs": [
        {
          "output_type": "stream",
          "text": [
            "[2, 4, 6, 8, 80, 1, 3, 5, 7, 9]\n",
            "[2, 4, 'h', 'e', 'l', 'l', 'o', 3, 5, 7, 9]\n",
            "[2, 4, 'a', 'b', 'c', 'e', 'l', 'l', 'o', 3, 5, 7, 9]\n",
            "[1]\n"
          ],
          "name": "stdout"
        }
      ]
    },
    {
      "cell_type": "code",
      "metadata": {
        "colab": {
          "base_uri": "https://localhost:8080/"
        },
        "id": "d7YV_DADxvNH",
        "outputId": "e1db0735-d396-424a-d442-6de29825eecf"
      },
      "source": [
        "even_numbers=[2,4,6,8,10]\n",
        "odd_numbers=[1,3,5,7,9]\n",
        "numbers= even_numbers+odd_numbers\n",
        "\n",
        "a=\"goorm\"\n",
        "\n",
        "del numbers[4]\n",
        "print(numbers)\n",
        "del numbers[:5]\n",
        "print(numbers)\n",
        "print(a)\n",
        "del a"
      ],
      "execution_count": null,
      "outputs": [
        {
          "output_type": "stream",
          "text": [
            "[2, 4, 6, 8, 1, 3, 5, 7, 9]\n",
            "[3, 5, 7, 9]\n",
            "goorm\n"
          ],
          "name": "stdout"
        }
      ]
    },
    {
      "cell_type": "code",
      "metadata": {
        "colab": {
          "base_uri": "https://localhost:8080/"
        },
        "id": "3ehiy3VpyCtz",
        "outputId": "75ed918b-7e79-4557-9f44-1dbbeb9dfcfc"
      },
      "source": [
        "even_numbers=[2,4,6,8,10]\n",
        "odd_numbers=[1,3,5,7,9]\n",
        "\n",
        "print(even_numbers, odd_numbers)\n",
        "\n",
        "even_numbers.append(10)\n",
        "odd_numbers.append(9)\n",
        "print(even_numbers, odd_numbers)\n",
        "\n",
        "numbers=even_numbers+odd_numbers\n",
        "print(numbers)\n",
        "numbers.sort()\n",
        "print(\"sort=>\", numbers)\n",
        "\n",
        "numbers.reverse()\n",
        "print(\"reverse=>\",numbers)\n",
        "numbers.insert(3,[11,12,13])\n",
        "print(\"insert=>\",numbers)\n",
        "numbers.remove(9)\n",
        "print(\"remove=>\",numbers)\n",
        "print(numbers.pop())\n",
        "print(\"pop\",numbers)\n",
        "\n",
        "numbers.extend(['a','b','c'])\n",
        "print(\"extend=>\",numbers)\n",
        "numbers.append(['a','b','c'])\n",
        "print(\"append=>\",numbers)"
      ],
      "execution_count": null,
      "outputs": [
        {
          "output_type": "stream",
          "text": [
            "[2, 4, 6, 8, 10] [1, 3, 5, 7, 9]\n",
            "[2, 4, 6, 8, 10, 10] [1, 3, 5, 7, 9, 9]\n",
            "[2, 4, 6, 8, 10, 10, 1, 3, 5, 7, 9, 9]\n",
            "sort=> [1, 2, 3, 4, 5, 6, 7, 8, 9, 9, 10, 10]\n",
            "reverse=> [10, 10, 9, 9, 8, 7, 6, 5, 4, 3, 2, 1]\n",
            "remove=> [10, 10, 9, 8, 7, 6, 5, 4, 3, 2, 1]\n",
            "1\n",
            "pop [10, 10, 9, 8, 7, 6, 5, 4, 3, 2]\n",
            "extend=> [10, 10, 9, 8, 7, 6, 5, 4, 3, 2, 'a', 'b', 'c']\n",
            "append=> [10, 10, 9, 8, 7, 6, 5, 4, 3, 2, 'a', 'b', 'c', ['a', 'b', 'c']]\n"
          ],
          "name": "stdout"
        }
      ]
    },
    {
      "cell_type": "code",
      "metadata": {
        "colab": {
          "base_uri": "https://localhost:8080/"
        },
        "id": "EgS5n2vBI5jj",
        "outputId": "21378715-c742-4523-b2e2-12582618dc66"
      },
      "source": [
        "list1=[1,2,3,4,3]\n",
        "list1.reverse()\n",
        "print(list1)"
      ],
      "execution_count": null,
      "outputs": [
        {
          "output_type": "stream",
          "text": [
            "[3, 4, 3, 2, 1]\n"
          ],
          "name": "stdout"
        }
      ]
    },
    {
      "cell_type": "code",
      "metadata": {
        "id": "DnfChUFzKLkK"
      },
      "source": [],
      "execution_count": null,
      "outputs": []
    },
    {
      "cell_type": "code",
      "metadata": {
        "colab": {
          "base_uri": "https://localhost:8080/"
        },
        "id": "ZDy-M7-t0L_K",
        "outputId": "97e463c6-903b-4cc7-d30f-20f9f4efe962"
      },
      "source": [
        "a=[1,9,2,3,4,5,7]\n",
        "number=a\n",
        "number.sort()\n",
        "print(number)\n",
        "number.remove(9)\n",
        "print(number)\n",
        "number.insert(5,6)\n",
        "print(number)\n",
        "number.append(8)\n",
        "print(number)\n",
        "number.reverse()\n",
        "print(number)"
      ],
      "execution_count": null,
      "outputs": [
        {
          "output_type": "stream",
          "text": [
            "[1, 2, 3, 4, 5, 7, 9]\n",
            "[1, 2, 3, 4, 5, 7]\n",
            "[1, 2, 3, 4, 5, 6, 7]\n",
            "[1, 2, 3, 4, 5, 6, 7, 8]\n",
            "[8, 7, 6, 5, 4, 3, 2, 1]\n"
          ],
          "name": "stdout"
        }
      ]
    },
    {
      "cell_type": "code",
      "metadata": {
        "colab": {
          "base_uri": "https://localhost:8080/"
        },
        "id": "NRBk6hV33HDm",
        "outputId": "067491dc-5c21-47c7-b2d7-57638af7d459"
      },
      "source": [
        "bool(0)"
      ],
      "execution_count": null,
      "outputs": [
        {
          "output_type": "execute_result",
          "data": {
            "text/plain": [
              "False"
            ]
          },
          "metadata": {
            "tags": []
          },
          "execution_count": 35
        }
      ]
    },
    {
      "cell_type": "code",
      "metadata": {
        "colab": {
          "base_uri": "https://localhost:8080/"
        },
        "id": "cdiqnyvt3N5h",
        "outputId": "fc053f67-74a9-41e2-a380-c59a04f3fff4"
      },
      "source": [
        "num=1\n",
        "sum=0\n",
        "\n",
        "while num<=10:\n",
        "  sum +=num\n",
        "  num+=1\n",
        "print(sum)"
      ],
      "execution_count": null,
      "outputs": [
        {
          "output_type": "stream",
          "text": [
            "55\n"
          ],
          "name": "stdout"
        }
      ]
    },
    {
      "cell_type": "code",
      "metadata": {
        "colab": {
          "base_uri": "https://localhost:8080/"
        },
        "id": "9xuLGAbF37m9",
        "outputId": "58546bf7-aadc-4963-d6ed-532061fb5bca"
      },
      "source": [
        "evennumbers=[]\n",
        "num=2\n",
        "\n",
        "while num<=30:\n",
        "  evennumbers.append(num)\n",
        "  num+=2\n",
        "print(evennumbers)"
      ],
      "execution_count": null,
      "outputs": [
        {
          "output_type": "stream",
          "text": [
            "[2, 4, 6, 8, 10, 12, 14, 16, 18, 20, 22, 24, 26, 28, 30]\n"
          ],
          "name": "stdout"
        }
      ]
    },
    {
      "cell_type": "code",
      "metadata": {
        "colab": {
          "base_uri": "https://localhost:8080/"
        },
        "id": "goh1ScBI4ZUX",
        "outputId": "75c826d7-a351-4b5d-9b40-c750d3576fa9"
      },
      "source": [
        "i = 0\n",
        "while i<=9:\n",
        "  i+=1\n",
        "  print(\"개구리\",i,\"마리\")\n"
      ],
      "execution_count": null,
      "outputs": [
        {
          "output_type": "stream",
          "text": [
            "개구리 1 마리\n",
            "개구리 2 마리\n",
            "개구리 3 마리\n",
            "개구리 4 마리\n",
            "개구리 5 마리\n",
            "개구리 6 마리\n",
            "개구리 7 마리\n",
            "개구리 8 마리\n",
            "개구리 9 마리\n",
            "개구리 10 마리\n"
          ],
          "name": "stdout"
        }
      ]
    },
    {
      "cell_type": "code",
      "metadata": {
        "colab": {
          "base_uri": "https://localhost:8080/"
        },
        "id": "UE-qNo-I48aG",
        "outputId": "438b75db-6756-410d-f37d-abcb362415a9"
      },
      "source": [
        "my_list=[3,2,1,4,5,9,7]\n",
        "my_list.sort()\n",
        "print(my_list)\n",
        "my_list.remove(9)\n",
        "print(my_list)\n",
        "my_list.insert(4,10)\n",
        "print(my_list)\n",
        "my_list.append(8)\n",
        "print(my_list)\n",
        "my_list.append(\"goorm\")\n",
        "print(my_list)\n",
        "my_list.reverse()\n",
        "print(my_list)"
      ],
      "execution_count": null,
      "outputs": [
        {
          "output_type": "stream",
          "text": [
            "[1, 2, 3, 4, 5, 7, 9]\n",
            "[1, 2, 3, 4, 5, 7]\n",
            "[1, 2, 3, 4, 10, 5, 7]\n",
            "[1, 2, 3, 4, 10, 5, 7, 8]\n",
            "[1, 2, 3, 4, 10, 5, 7, 8, 'goorm']\n",
            "['goorm', 8, 7, 5, 10, 4, 3, 2, 1]\n"
          ],
          "name": "stdout"
        }
      ]
    },
    {
      "cell_type": "code",
      "metadata": {
        "colab": {
          "base_uri": "https://localhost:8080/"
        },
        "id": "pG0bNexq8TEd",
        "outputId": "1e05af71-eec7-4b87-86c6-1ad38e04b576"
      },
      "source": [
        "list2=my_list[:5]\n",
        "print(list2)\n",
        "list2.extend(['c','o','d','e'])\n",
        "print(list2)\n",
        "list2.extend(['cow','cat','dog'])\n",
        "print(list2)\n",
        "list2.remove(10)\n",
        "print(list2)\n",
        "list2.pop()\n",
        "print(list2)"
      ],
      "execution_count": null,
      "outputs": [
        {
          "output_type": "stream",
          "text": [
            "['goorm', 8, 7, 5, 10]\n",
            "['goorm', 8, 7, 5, 10, 'c', 'o', 'd', 'e']\n",
            "['goorm', 8, 7, 5, 10, 'c', 'o', 'd', 'e', 'cow', 'cat', 'dog']\n",
            "['goorm', 8, 7, 5, 'c', 'o', 'd', 'e', 'cow', 'cat', 'dog']\n",
            "['goorm', 8, 7, 5, 'c', 'o', 'd', 'e', 'cow', 'cat']\n"
          ],
          "name": "stdout"
        }
      ]
    },
    {
      "cell_type": "code",
      "metadata": {
        "colab": {
          "base_uri": "https://localhost:8080/"
        },
        "id": "P9if7Xn0_OPC",
        "outputId": "611522cf-cfda-4d86-aeac-fbaeffdc08ec"
      },
      "source": [
        "my_dict={'model':'iphonexs',\n",
        "         'manufacturer':'apple',\n",
        "         'year':'2020'}\n",
        "print(my_dict)\n",
        "del my_dict['year']\n",
        "print(my_dict)\n",
        "my_dict['fruits']=['apple','orange','melon']\n",
        "print(my_dict)\n",
        "my_dict['animal']={'cow':'소','cat':'고양이'}\n",
        "print(my_dict)\n",
        "print(my_dict.keys())\n",
        "print(my_dict.values())"
      ],
      "execution_count": null,
      "outputs": [
        {
          "output_type": "stream",
          "text": [
            "{'model': 'iphonexs', 'manufacturer': 'apple', 'year': '2020'}\n",
            "{'model': 'iphonexs', 'manufacturer': 'apple'}\n",
            "{'model': 'iphonexs', 'manufacturer': 'apple', 'fruits': ['apple', 'orange', 'melon']}\n",
            "{'model': 'iphonexs', 'manufacturer': 'apple', 'fruits': ['apple', 'orange', 'melon'], 'animal': {'cow': '소', 'cat': '고양이'}}\n",
            "dict_values(['iphonexs', 'apple', ['apple', 'orange', 'melon'], {'cow': '소', 'cat': '고양이'}])\n",
            "dict_keys(['model', 'manufacturer', 'fruits', 'animal'])\n"
          ],
          "name": "stdout"
        }
      ]
    },
    {
      "cell_type": "markdown",
      "metadata": {
        "id": "v2RGLil84GAA"
      },
      "source": [
        "# **클래스**"
      ]
    },
    {
      "cell_type": "code",
      "metadata": {
        "id": "ZXFG-SVm_PoP"
      },
      "source": [],
      "execution_count": null,
      "outputs": []
    },
    {
      "cell_type": "code",
      "metadata": {
        "colab": {
          "base_uri": "https://localhost:8080/"
        },
        "id": "5mCCVXRA4JoQ",
        "outputId": "8c02db4a-b87e-4a96-d2f5-8010a857f8a9"
      },
      "source": [
        "class Calculator:\n",
        "  def __init__(self):\n",
        "    self.result = 0\n",
        "  def add(self,num):\n",
        "    self.result+=num\n",
        "    return self.result\n",
        "  def min(self, num):\n",
        "    self.result-=num\n",
        "    return self.result\n",
        "\n",
        "cal1 = Calculator()\n",
        "cal2 = Calculator()\n",
        "print(cal1.add(3))\n",
        "print(cal1.add(4))\n",
        "print(cal2.add(3))\n",
        "print(cal2.add(7))\n",
        "print(cal1.min(4))\n",
        "print(cal2.min(6))"
      ],
      "execution_count": null,
      "outputs": [
        {
          "output_type": "stream",
          "name": "stdout",
          "text": [
            "3\n",
            "7\n",
            "3\n",
            "10\n",
            "3\n",
            "4\n"
          ]
        }
      ]
    },
    {
      "cell_type": "code",
      "metadata": {
        "colab": {
          "base_uri": "https://localhost:8080/",
          "height": 208
        },
        "id": "_2HQOSHNrltC",
        "outputId": "f70699ae-f9da-4839-a94b-ece124f79699"
      },
      "source": [
        "class Calculator:\n",
        "  def setdata(self, first, second):\n",
        "    self.first = first\n",
        "    self.second = second\n",
        "print(self.first)"
      ],
      "execution_count": null,
      "outputs": [
        {
          "output_type": "error",
          "ename": "NameError",
          "evalue": "ignored",
          "traceback": [
            "\u001b[0;31m---------------------------------------------------------------------------\u001b[0m",
            "\u001b[0;31mNameError\u001b[0m                                 Traceback (most recent call last)",
            "\u001b[0;32m<ipython-input-1-f615c371c0b8>\u001b[0m in \u001b[0;36m<module>\u001b[0;34m()\u001b[0m\n\u001b[1;32m      4\u001b[0m     \u001b[0mself\u001b[0m\u001b[0;34m.\u001b[0m\u001b[0mfirst\u001b[0m \u001b[0;34m=\u001b[0m \u001b[0mfirst\u001b[0m\u001b[0;34m\u001b[0m\u001b[0;34m\u001b[0m\u001b[0m\n\u001b[1;32m      5\u001b[0m     \u001b[0mself\u001b[0m\u001b[0;34m.\u001b[0m\u001b[0msecond\u001b[0m \u001b[0;34m=\u001b[0m \u001b[0msecond\u001b[0m\u001b[0;34m\u001b[0m\u001b[0;34m\u001b[0m\u001b[0m\n\u001b[0;32m----> 6\u001b[0;31m \u001b[0mprint\u001b[0m\u001b[0;34m(\u001b[0m\u001b[0mself\u001b[0m\u001b[0;34m.\u001b[0m\u001b[0mfirst\u001b[0m\u001b[0;34m)\u001b[0m\u001b[0;34m\u001b[0m\u001b[0;34m\u001b[0m\u001b[0m\n\u001b[0m",
            "\u001b[0;31mNameError\u001b[0m: name 'self' is not defined"
          ]
        }
      ]
    },
    {
      "cell_type": "code",
      "metadata": {
        "colab": {
          "base_uri": "https://localhost:8080/",
          "height": 35
        },
        "id": "tUR0fLdLxMWj",
        "outputId": "f1bd545d-aebe-4d81-b1fe-9ea8f63d29d6"
      },
      "source": [
        "class Fourcal:\n",
        "  def __init__(self, first, second):\n",
        "    #인스턴스 변수 선언\n",
        "    self.first=first\n",
        "    self.second=second\n",
        "  def setdata(self, first, second):\n",
        "    self.first=first\n",
        "    self.second=second\n",
        "  def add(self):\n",
        "    result = self.first+self.second\n",
        "    return result\n",
        "  def min(self):\n",
        "    result = self.first-self.second\n",
        "    return result\n",
        "  def mul(self):\n",
        "    result = self.first*self.second\n",
        "    return result\n",
        "  def nan(self):\n",
        "    result = self.first//self.second\n",
        "    return result\n"
      ],
      "execution_count": null,
      "outputs": [
        {
          "output_type": "execute_result",
          "data": {
            "application/vnd.google.colaboratory.intrinsic+json": {
              "type": "string"
            },
            "text/plain": [
              "'    \\ncal = Fourcal\\nprint(cal.add(7))\\nprint(cal.add(4))\\nprint(cal.min(2))\\nprint(cal.min(3))\\nprint(cal.mul(2))\\nprint(cal.mul(2))\\nprint(cal.nan(4))'"
            ]
          },
          "metadata": {
            "tags": []
          },
          "execution_count": 11
        }
      ]
    },
    {
      "cell_type": "code",
      "metadata": {
        "colab": {
          "base_uri": "https://localhost:8080/"
        },
        "id": "KmHMo1723Miv",
        "outputId": "3a1985c9-e521-4d4f-a26b-8967bec7ac35"
      },
      "source": [
        "print(cal.add())\n",
        "print(cal.min())\n",
        "print(cal.mul())\n",
        "print(cal.nan())"
      ],
      "execution_count": null,
      "outputs": [
        {
          "output_type": "stream",
          "text": [
            "8\n",
            "4\n",
            "12\n",
            "3.0\n"
          ],
          "name": "stdout"
        }
      ]
    },
    {
      "cell_type": "code",
      "metadata": {
        "colab": {
          "base_uri": "https://localhost:8080/",
          "height": 574
        },
        "id": "2OZWuial3S9n",
        "outputId": "a390012f-bf6f-4175-e635-d0fea4cf8252"
      },
      "source": [
        "print(\"계산기 입니다!\")\n",
        "a=int(input(\"첫번째 숫자를 입력해주십시오\"))\n",
        "b=int(input(\"두번째 숫자를 입력해주십시오\"))\n",
        "print(\"==============(덧셈은 1, 뺄셈은 2, 곱셈은 3, 나눗셈은 4를 입력해주세요.)===============\")\n",
        "menu=int(input(\"원하는 사칙연산을 입력해주십시오\"))\n",
        "cal = Fourcal(a,b)\n",
        "if menu == 1:\n",
        "  print(cal.add())\n",
        "if menu == 2:\n",
        "  print(cal.min())\n",
        "if menu == 3:\n",
        "  print(cal.mul())\n",
        "if menu == 4:\n",
        "  print(cal.nan())\n"
      ],
      "execution_count": null,
      "outputs": [
        {
          "output_type": "stream",
          "text": [
            "계산기 입니다!\n"
          ],
          "name": "stdout"
        },
        {
          "output_type": "error",
          "ename": "KeyboardInterrupt",
          "evalue": "ignored",
          "traceback": [
            "\u001b[0;31m---------------------------------------------------------------------------\u001b[0m",
            "\u001b[0;31mKeyboardInterrupt\u001b[0m                         Traceback (most recent call last)",
            "\u001b[0;32m/usr/local/lib/python3.7/dist-packages/ipykernel/kernelbase.py\u001b[0m in \u001b[0;36m_input_request\u001b[0;34m(self, prompt, ident, parent, password)\u001b[0m\n\u001b[1;32m    728\u001b[0m             \u001b[0;32mtry\u001b[0m\u001b[0;34m:\u001b[0m\u001b[0;34m\u001b[0m\u001b[0;34m\u001b[0m\u001b[0m\n\u001b[0;32m--> 729\u001b[0;31m                 \u001b[0mident\u001b[0m\u001b[0;34m,\u001b[0m \u001b[0mreply\u001b[0m \u001b[0;34m=\u001b[0m \u001b[0mself\u001b[0m\u001b[0;34m.\u001b[0m\u001b[0msession\u001b[0m\u001b[0;34m.\u001b[0m\u001b[0mrecv\u001b[0m\u001b[0;34m(\u001b[0m\u001b[0mself\u001b[0m\u001b[0;34m.\u001b[0m\u001b[0mstdin_socket\u001b[0m\u001b[0;34m,\u001b[0m \u001b[0;36m0\u001b[0m\u001b[0;34m)\u001b[0m\u001b[0;34m\u001b[0m\u001b[0;34m\u001b[0m\u001b[0m\n\u001b[0m\u001b[1;32m    730\u001b[0m             \u001b[0;32mexcept\u001b[0m \u001b[0mException\u001b[0m\u001b[0;34m:\u001b[0m\u001b[0;34m\u001b[0m\u001b[0;34m\u001b[0m\u001b[0m\n",
            "\u001b[0;32m/usr/local/lib/python3.7/dist-packages/jupyter_client/session.py\u001b[0m in \u001b[0;36mrecv\u001b[0;34m(self, socket, mode, content, copy)\u001b[0m\n\u001b[1;32m    802\u001b[0m         \u001b[0;32mtry\u001b[0m\u001b[0;34m:\u001b[0m\u001b[0;34m\u001b[0m\u001b[0;34m\u001b[0m\u001b[0m\n\u001b[0;32m--> 803\u001b[0;31m             \u001b[0mmsg_list\u001b[0m \u001b[0;34m=\u001b[0m \u001b[0msocket\u001b[0m\u001b[0;34m.\u001b[0m\u001b[0mrecv_multipart\u001b[0m\u001b[0;34m(\u001b[0m\u001b[0mmode\u001b[0m\u001b[0;34m,\u001b[0m \u001b[0mcopy\u001b[0m\u001b[0;34m=\u001b[0m\u001b[0mcopy\u001b[0m\u001b[0;34m)\u001b[0m\u001b[0;34m\u001b[0m\u001b[0;34m\u001b[0m\u001b[0m\n\u001b[0m\u001b[1;32m    804\u001b[0m         \u001b[0;32mexcept\u001b[0m \u001b[0mzmq\u001b[0m\u001b[0;34m.\u001b[0m\u001b[0mZMQError\u001b[0m \u001b[0;32mas\u001b[0m \u001b[0me\u001b[0m\u001b[0;34m:\u001b[0m\u001b[0;34m\u001b[0m\u001b[0;34m\u001b[0m\u001b[0m\n",
            "\u001b[0;32m/usr/local/lib/python3.7/dist-packages/zmq/sugar/socket.py\u001b[0m in \u001b[0;36mrecv_multipart\u001b[0;34m(self, flags, copy, track)\u001b[0m\n\u001b[1;32m    582\u001b[0m         \"\"\"\n\u001b[0;32m--> 583\u001b[0;31m         \u001b[0mparts\u001b[0m \u001b[0;34m=\u001b[0m \u001b[0;34m[\u001b[0m\u001b[0mself\u001b[0m\u001b[0;34m.\u001b[0m\u001b[0mrecv\u001b[0m\u001b[0;34m(\u001b[0m\u001b[0mflags\u001b[0m\u001b[0;34m,\u001b[0m \u001b[0mcopy\u001b[0m\u001b[0;34m=\u001b[0m\u001b[0mcopy\u001b[0m\u001b[0;34m,\u001b[0m \u001b[0mtrack\u001b[0m\u001b[0;34m=\u001b[0m\u001b[0mtrack\u001b[0m\u001b[0;34m)\u001b[0m\u001b[0;34m]\u001b[0m\u001b[0;34m\u001b[0m\u001b[0;34m\u001b[0m\u001b[0m\n\u001b[0m\u001b[1;32m    584\u001b[0m         \u001b[0;31m# have first part already, only loop while more to receive\u001b[0m\u001b[0;34m\u001b[0m\u001b[0;34m\u001b[0m\u001b[0;34m\u001b[0m\u001b[0m\n",
            "\u001b[0;32mzmq/backend/cython/socket.pyx\u001b[0m in \u001b[0;36mzmq.backend.cython.socket.Socket.recv\u001b[0;34m()\u001b[0m\n",
            "\u001b[0;32mzmq/backend/cython/socket.pyx\u001b[0m in \u001b[0;36mzmq.backend.cython.socket.Socket.recv\u001b[0;34m()\u001b[0m\n",
            "\u001b[0;32mzmq/backend/cython/socket.pyx\u001b[0m in \u001b[0;36mzmq.backend.cython.socket._recv_copy\u001b[0;34m()\u001b[0m\n",
            "\u001b[0;32m/usr/local/lib/python3.7/dist-packages/zmq/backend/cython/checkrc.pxd\u001b[0m in \u001b[0;36mzmq.backend.cython.checkrc._check_rc\u001b[0;34m()\u001b[0m\n",
            "\u001b[0;31mKeyboardInterrupt\u001b[0m: ",
            "\nDuring handling of the above exception, another exception occurred:\n",
            "\u001b[0;31mKeyboardInterrupt\u001b[0m                         Traceback (most recent call last)",
            "\u001b[0;32m<ipython-input-36-b190fbca70ac>\u001b[0m in \u001b[0;36m<module>\u001b[0;34m()\u001b[0m\n\u001b[1;32m      1\u001b[0m \u001b[0mprint\u001b[0m\u001b[0;34m(\u001b[0m\u001b[0;34m\"계산기 입니다!\"\u001b[0m\u001b[0;34m)\u001b[0m\u001b[0;34m\u001b[0m\u001b[0;34m\u001b[0m\u001b[0m\n\u001b[0;32m----> 2\u001b[0;31m \u001b[0ma\u001b[0m\u001b[0;34m=\u001b[0m\u001b[0mint\u001b[0m\u001b[0;34m(\u001b[0m\u001b[0minput\u001b[0m\u001b[0;34m(\u001b[0m\u001b[0;34m\"첫번째 숫자를 입력해주십시오\"\u001b[0m\u001b[0;34m)\u001b[0m\u001b[0;34m)\u001b[0m\u001b[0;34m\u001b[0m\u001b[0;34m\u001b[0m\u001b[0m\n\u001b[0m\u001b[1;32m      3\u001b[0m \u001b[0mb\u001b[0m\u001b[0;34m=\u001b[0m\u001b[0mint\u001b[0m\u001b[0;34m(\u001b[0m\u001b[0minput\u001b[0m\u001b[0;34m(\u001b[0m\u001b[0;34m\"두번째 숫자를 입력해주십시오\"\u001b[0m\u001b[0;34m)\u001b[0m\u001b[0;34m)\u001b[0m\u001b[0;34m\u001b[0m\u001b[0;34m\u001b[0m\u001b[0m\n\u001b[1;32m      4\u001b[0m \u001b[0mprint\u001b[0m\u001b[0;34m(\u001b[0m\u001b[0;34m\"==============(덧셈은 1, 뺄셈은 2, 곱셈은 3, 나눗셈은 4를 입력해주세요.)===============\"\u001b[0m\u001b[0;34m)\u001b[0m\u001b[0;34m\u001b[0m\u001b[0;34m\u001b[0m\u001b[0m\n\u001b[1;32m      5\u001b[0m \u001b[0mmenu\u001b[0m\u001b[0;34m=\u001b[0m\u001b[0mint\u001b[0m\u001b[0;34m(\u001b[0m\u001b[0minput\u001b[0m\u001b[0;34m(\u001b[0m\u001b[0;34m\"원하는 사칙연산을 입력해주십시오\"\u001b[0m\u001b[0;34m)\u001b[0m\u001b[0;34m)\u001b[0m\u001b[0;34m\u001b[0m\u001b[0;34m\u001b[0m\u001b[0m\n",
            "\u001b[0;32m/usr/local/lib/python3.7/dist-packages/ipykernel/kernelbase.py\u001b[0m in \u001b[0;36mraw_input\u001b[0;34m(self, prompt)\u001b[0m\n\u001b[1;32m    702\u001b[0m             \u001b[0mself\u001b[0m\u001b[0;34m.\u001b[0m\u001b[0m_parent_ident\u001b[0m\u001b[0;34m,\u001b[0m\u001b[0;34m\u001b[0m\u001b[0;34m\u001b[0m\u001b[0m\n\u001b[1;32m    703\u001b[0m             \u001b[0mself\u001b[0m\u001b[0;34m.\u001b[0m\u001b[0m_parent_header\u001b[0m\u001b[0;34m,\u001b[0m\u001b[0;34m\u001b[0m\u001b[0;34m\u001b[0m\u001b[0m\n\u001b[0;32m--> 704\u001b[0;31m             \u001b[0mpassword\u001b[0m\u001b[0;34m=\u001b[0m\u001b[0;32mFalse\u001b[0m\u001b[0;34m,\u001b[0m\u001b[0;34m\u001b[0m\u001b[0;34m\u001b[0m\u001b[0m\n\u001b[0m\u001b[1;32m    705\u001b[0m         )\n\u001b[1;32m    706\u001b[0m \u001b[0;34m\u001b[0m\u001b[0m\n",
            "\u001b[0;32m/usr/local/lib/python3.7/dist-packages/ipykernel/kernelbase.py\u001b[0m in \u001b[0;36m_input_request\u001b[0;34m(self, prompt, ident, parent, password)\u001b[0m\n\u001b[1;32m    732\u001b[0m             \u001b[0;32mexcept\u001b[0m \u001b[0mKeyboardInterrupt\u001b[0m\u001b[0;34m:\u001b[0m\u001b[0;34m\u001b[0m\u001b[0;34m\u001b[0m\u001b[0m\n\u001b[1;32m    733\u001b[0m                 \u001b[0;31m# re-raise KeyboardInterrupt, to truncate traceback\u001b[0m\u001b[0;34m\u001b[0m\u001b[0;34m\u001b[0m\u001b[0;34m\u001b[0m\u001b[0m\n\u001b[0;32m--> 734\u001b[0;31m                 \u001b[0;32mraise\u001b[0m \u001b[0mKeyboardInterrupt\u001b[0m\u001b[0;34m\u001b[0m\u001b[0;34m\u001b[0m\u001b[0m\n\u001b[0m\u001b[1;32m    735\u001b[0m             \u001b[0;32melse\u001b[0m\u001b[0;34m:\u001b[0m\u001b[0;34m\u001b[0m\u001b[0;34m\u001b[0m\u001b[0m\n\u001b[1;32m    736\u001b[0m                 \u001b[0;32mbreak\u001b[0m\u001b[0;34m\u001b[0m\u001b[0;34m\u001b[0m\u001b[0m\n",
            "\u001b[0;31mKeyboardInterrupt\u001b[0m: "
          ]
        }
      ]
    },
    {
      "cell_type": "code",
      "metadata": {
        "id": "r0uHoCjx9hTz"
      },
      "source": [
        "class MoreFourCal(Fourcal):\n",
        "  def pow(self):\n",
        "    result = self.first ** self.second\n",
        "    return result"
      ],
      "execution_count": null,
      "outputs": []
    },
    {
      "cell_type": "code",
      "metadata": {
        "id": "NiIhXLXA-FDc"
      },
      "source": [
        "mcal = MoreFourCal(4, 2)\n",
        "mcal.add()\n",
        "mcal.pow()\n",
        "m=Fourcal(4,0)"
      ],
      "execution_count": null,
      "outputs": []
    },
    {
      "cell_type": "code",
      "metadata": {
        "id": "a2dXvndVAKhK"
      },
      "source": [
        "class SafeFourcal(Fourcal):\n",
        "  def nan(self):\n",
        "    if self.second == 0:\n",
        "      return 0\n",
        "    else :\n",
        "      return self.first / self.second"
      ],
      "execution_count": null,
      "outputs": []
    },
    {
      "cell_type": "code",
      "metadata": {
        "colab": {
          "base_uri": "https://localhost:8080/"
        },
        "id": "lA4Jyc0HBMyT",
        "outputId": "e405df9b-fe22-4cf9-af18-c1177c06dc11"
      },
      "source": [
        "a = SafeFourcal(4, 0)\n",
        "a.nan()"
      ],
      "execution_count": null,
      "outputs": [
        {
          "output_type": "execute_result",
          "data": {
            "text/plain": [
              "0"
            ]
          },
          "metadata": {
            "tags": []
          },
          "execution_count": 46
        }
      ]
    },
    {
      "cell_type": "code",
      "metadata": {
        "id": "SoVAoVpduxK1"
      },
      "source": [
        "class Dog():\n",
        "  def __init__(self,name):\n",
        "    self.name = name\n",
        "  def bark(self):\n",
        "    print(\"멍\")"
      ],
      "execution_count": null,
      "outputs": []
    },
    {
      "cell_type": "code",
      "metadata": {
        "id": "29sYWdHlyLnt"
      },
      "source": [
        "jang = Dog('짱아')"
      ],
      "execution_count": null,
      "outputs": []
    },
    {
      "cell_type": "code",
      "metadata": {
        "colab": {
          "base_uri": "https://localhost:8080/",
          "height": 35
        },
        "id": "8Hv0cQBNyXJs",
        "outputId": "5b295e86-31e7-47e9-a2eb-140e55b1afcb"
      },
      "source": [
        "jang.name"
      ],
      "execution_count": null,
      "outputs": [
        {
          "output_type": "execute_result",
          "data": {
            "application/vnd.google.colaboratory.intrinsic+json": {
              "type": "string"
            },
            "text/plain": [
              "'짱아'"
            ]
          },
          "metadata": {
            "tags": []
          },
          "execution_count": 23
        }
      ]
    },
    {
      "cell_type": "code",
      "metadata": {
        "colab": {
          "base_uri": "https://localhost:8080/"
        },
        "id": "KymFNF05zYS8",
        "outputId": "65adc518-e0bb-4299-e93e-f573d3901a5c"
      },
      "source": [
        "jang.bark()"
      ],
      "execution_count": null,
      "outputs": [
        {
          "output_type": "stream",
          "text": [
            "멍\n"
          ],
          "name": "stdout"
        }
      ]
    },
    {
      "cell_type": "code",
      "metadata": {
        "id": "bcykwVTP077a"
      },
      "source": [
        "class Cat():\n",
        "  def __init__(self,name,age):\n",
        "    self.name= name\n",
        "    self.age=age\n",
        "  def __str__(self):\n",
        "    msg=self.name+\"의 나이는 \"+str(self.age)+\"살 입니다.\"\n",
        "    return msg"
      ],
      "execution_count": null,
      "outputs": []
    },
    {
      "cell_type": "code",
      "metadata": {
        "colab": {
          "base_uri": "https://localhost:8080/"
        },
        "id": "dNHYu8uG9lt_",
        "outputId": "8aa58b10-3ff2-48c7-e6e0-a9774af470cb"
      },
      "source": [
        "missy=Cat('Missy',3)\n",
        "lucky=Cat('Lucky',5)\n",
        "print(missy)\n",
        "print(lucky)"
      ],
      "execution_count": null,
      "outputs": [
        {
          "output_type": "stream",
          "text": [
            "Missy의 나이는 3살 입니다.\n",
            "Lucky의 나이는 5살 입니다.\n"
          ],
          "name": "stdout"
        }
      ]
    },
    {
      "cell_type": "code",
      "metadata": {
        "id": "A4OBqRQK_aWv"
      },
      "source": [],
      "execution_count": null,
      "outputs": []
    },
    {
      "cell_type": "code",
      "metadata": {
        "id": "vBUovcEpCS_e"
      },
      "source": [],
      "execution_count": null,
      "outputs": []
    },
    {
      "cell_type": "code",
      "metadata": {
        "id": "0u69KUq80OEa"
      },
      "source": [
        "class Calulator:\n",
        "  def __init__(self):\n",
        "    self.value = 0\n",
        "\n",
        "  def add(self, val):\n",
        "    self.value += val\n",
        "\n"
      ],
      "execution_count": null,
      "outputs": []
    },
    {
      "cell_type": "code",
      "metadata": {
        "colab": {
          "base_uri": "https://localhost:8080/",
          "height": 248
        },
        "id": "VsQKeYTA0vGj",
        "outputId": "5d26d81f-aa96-4198-ca73-1a7413721b2f"
      },
      "source": [
        "class UpgradeCalulator(Calulator):\n",
        "  def minus(self,val):\n",
        "    self.value -=val\n",
        "\n",
        "cal=UpgradeCalulator()\n",
        "cal.add(10)\n",
        "cal.minus(7)\n",
        "\n",
        "print(cal.value)"
      ],
      "execution_count": null,
      "outputs": [
        {
          "output_type": "error",
          "ename": "NameError",
          "evalue": "ignored",
          "traceback": [
            "\u001b[0;31m---------------------------------------------------------------------------\u001b[0m",
            "\u001b[0;31mNameError\u001b[0m                                 Traceback (most recent call last)",
            "\u001b[0;32m<ipython-input-5-c61d8e138e09>\u001b[0m in \u001b[0;36m<cell line: 1>\u001b[0;34m()\u001b[0m\n\u001b[0;32m----> 1\u001b[0;31m \u001b[0;32mclass\u001b[0m \u001b[0mUpgradeCalulator\u001b[0m\u001b[0;34m(\u001b[0m\u001b[0mCalulator\u001b[0m\u001b[0;34m)\u001b[0m\u001b[0;34m:\u001b[0m\u001b[0;34m\u001b[0m\u001b[0;34m\u001b[0m\u001b[0m\n\u001b[0m\u001b[1;32m      2\u001b[0m   \u001b[0;32mdef\u001b[0m \u001b[0mminus\u001b[0m\u001b[0;34m(\u001b[0m\u001b[0mself\u001b[0m\u001b[0;34m,\u001b[0m\u001b[0mval\u001b[0m\u001b[0;34m)\u001b[0m\u001b[0;34m:\u001b[0m\u001b[0;34m\u001b[0m\u001b[0;34m\u001b[0m\u001b[0m\n\u001b[1;32m      3\u001b[0m     \u001b[0mself\u001b[0m\u001b[0;34m.\u001b[0m\u001b[0mvalue\u001b[0m \u001b[0;34m-=\u001b[0m\u001b[0mval\u001b[0m\u001b[0;34m\u001b[0m\u001b[0;34m\u001b[0m\u001b[0m\n\u001b[1;32m      4\u001b[0m \u001b[0;34m\u001b[0m\u001b[0m\n\u001b[1;32m      5\u001b[0m \u001b[0mcal\u001b[0m\u001b[0;34m=\u001b[0m\u001b[0mUpgradeCalulator\u001b[0m\u001b[0;34m(\u001b[0m\u001b[0;34m)\u001b[0m\u001b[0;34m\u001b[0m\u001b[0;34m\u001b[0m\u001b[0m\n",
            "\u001b[0;31mNameError\u001b[0m: name 'Calulator' is not defined"
          ]
        }
      ]
    }
  ]
}